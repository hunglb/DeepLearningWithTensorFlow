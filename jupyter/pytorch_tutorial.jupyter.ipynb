{
 "cells": [
  {
   "cell_type": "code",
   "execution_count": 1,
   "metadata": {
    "collapsed": true,
    "deletable": true,
    "editable": true
   },
   "outputs": [],
   "source": [
    "%matplotlib inline"
   ]
  },
  {
   "cell_type": "markdown",
   "metadata": {
    "deletable": true,
    "editable": true
   },
   "source": [
    "\n",
    "Introduction to PyTorch\n",
    "============\n",
    "\n",
    "PyTorch's tensor library\n",
    "------------------------------------\n",
    "\n",
    "The most of PyTorch operations are running on <b>tensors</b>.\n",
    "A tensor is an multidimensional array.\n",
    "Lets have a look on some basic tensor operations.\n",
    "But first, lets import some important PyTorch libraries:\n",
    "- <b>torch</b> - a Tensor library similar to NumPy, with strong GPU support\n",
    "- <b>torch.autograd</b> - a \"tape-based\" (about this - later on) automatic differentiation library\n",
    "- <b>torch.nn</b> - a neural networks library deeply integrated with autograd \n",
    "- <b>torch.optim</b> - an optimization package to be used with torch.nn with standard optimization methods such as SGD, RMSProp, LBFGS, Adam etc.\n",
    "\n",
    "\n",
    "We also set a seed to be able to reproduce the same results later.\n",
    "\n"
   ]
  },
  {
   "cell_type": "code",
   "execution_count": 3,
   "metadata": {
    "collapsed": false
   },
   "outputs": [
    {
     "name": "stdout",
     "output_type": "stream",
     "text": [
      "\u001b[33mDEPRECATION: Python 2.7 will reach the end of its life on January 1st, 2020. Please upgrade your Python as Python 2.7 won't be maintained after that date. A future version of pip will drop support for Python 2.7.\u001b[0m\n",
      "Collecting torch==0.3.0.post4 from http://download.pytorch.org/whl/cu80/torch-0.3.0.post4-cp27-cp27mu-linux_x86_64.whl\n",
      "\u001b[?25l  Downloading http://download.pytorch.org/whl/cu80/torch-0.3.0.post4-cp27-cp27mu-linux_x86_64.whl (592.8MB)\n",
      "\u001b[K     |████████████████████████████████| 592.8MB 2.5MB/s eta 0:00:019  | 8.0MB 20.4MB/s eta 0:00:29               | 11.0MB 20.4MB/s eta 0:00:29                              | 15.1MB 20.4MB/s eta 0:00:29               | 16.3MB 20.4MB/s eta 0:00:2929[K     |█▏                              | 22.4MB 786kB/s eta 0:12:06 |█▌                              | 27.6MB 786kB/s eta 0:11:59[K     |█▉                              | 33.3MB 786kB/s eta 0:11:52                        | 45.6MB 786kB/s eta 0:11:36                        | 47.7MB 781kB/s eta 0:11:38| 51.0MB 781kB/s eta 0:11:34 0:11:25:11:20| 64.6MB 781kB/s eta 0:11:16| 69.9MB 781kB/s eta 0:11:09| 75.3MB 923kB/s eta 0:09:21                      | 99.1MB 923kB/s eta 0:08:55��▍                          | 100.0MB 1.1MB/s eta 0:07:42 |█████▌                          | 101.2MB 1.1MB/s eta 0:07:41███▊                          | 106.8MB 1.1MB/s eta 0:07:36      | 113.0MB 1.1MB/s eta 0:07:30           | 117.9MB 1.1MB/s eta 0:07:25    |██████▌                         | 121.1MB 1.1MB/s eta 0:07:22    |██████▋                         | 123.4MB 1.1MB/s eta 0:07:20           | 129.5MB 1.5MB/s eta 0:05:12080638                  | 156.1MB 2.0MB/s eta 0:03:41                  | 158.8MB 2.0MB/s eta 0:03:39��▊                       | 162.3MB 2.0MB/s eta 0:03:38                  | 163.0MB 2.0MB/s eta 0:03:37                       | 164.6MB 2.0MB/s eta 0:03:3603:35ta 0:03:3331     |██████████▊                     | 198.6MB 1.9MB/s eta 0:03:29                 | 199.6MB 1.9MB/s eta 0:03:28    |███████████▎                    | 208.4MB 7.3MB/s eta 0:00:53██████▌                    | 214.0MB 7.3MB/s eta 0:00:53    |███████████▉                    | 219.0MB 7.3MB/s eta 0:00:52.4MB/s eta 0:00:30██▍                   | 229.3MB 12.4MB/s eta 0:00:30██▋                   | 233.6MB 12.4MB/s eta 0:00:29██▉                   | 238.4MB 12.4MB/s eta 0:00:29███                   | 242.7MB 12.4MB/s eta 0:00:29��█████████▌                  | 249.9MB 5.7MB/s eta 0:01:01███▋                  | 252.9MB 5.7MB/s eta 0:01:00��██████████                  | 259.5MB 5.7MB/s eta 0:00:59 5.7MB/s eta 0:00:59██████████▌                 | 268.9MB 23.2MB/s eta 0:00:14�██▎                | 284.0MB 23.2MB/s eta 0:00:14████▊                | 290.8MB 1.3MB/s eta 0:03:523MB/s eta 0:03:48    |████████████████▎               | 301.6MB 1.3MB/s eta 0:03:44/s eta 0:00:15            | 311.8MB 19.3MB/s eta 0:00:15/s eta 0:00:15��█▏              | 317.6MB 19.3MB/s eta 0:00:15     |█████████████████▎              | 319.9MB 19.3MB/s eta 0:00:15��█▍              | 322.7MB 19.3MB/s eta 0:00:14     |█████████████████▊              | 328.3MB 19.3MB/s eta 0:00:14��█▉              | 330.8MB 19.3MB/s eta 0:00:14��██████████████▏             | 336.5MB 12.6MB/s eta 0:00:21��██████████████▌             | 342.3MB 12.6MB/s eta 0:00:20████████▊             | 345.8MB 12.6MB/s eta 0:00:20████████▉             | 348.4MB 12.6MB/s eta 0:00:20�██             | 351.3MB 12.6MB/s eta 0:00:20��███████████████             | 354.0MB 12.6MB/s eta 0:00:19  | 355.9MB 12.6MB/s eta 0:00:19[K     |███████████████████▎            | 358.0MB 5.9MB/s eta 0:00:40   |███████████████████▌            | 360.6MB 5.9MB/s eta 0:00:40     |███████████████████▋            | 363.1MB 5.9MB/s eta 0:00:39     |███████████████████▉            | 366.8MB 5.9MB/s eta 0:00:39 |████████████████████            | 369.7MB 5.9MB/s eta 0:00:38[K     |████████████████████            | 372.5MB 5.9MB/s eta 0:00:38     | 375.0MB 5.9MB/s eta 0:00:37     | 378.4MB 5.9MB/s eta 0:00:37�████████▋           | 380.9MB 5.9MB/s eta 0:00:36     | 382.3MB 1.5MB/s eta 0:02:24�████████▊           | 384.4MB 1.5MB/s eta 0:02:22     | 388.2MB 1.5MB/s eta 0:02:20�█████████▎          | 394.0MB 1.5MB/s eta 0:02:16�████▌          | 398.3MB 1.5MB/s eta 0:02:130.9MB 1.5MB/s eta 0:02:11�█████████▊          | 403.4MB 1.5MB/s eta 0:02:09�██████████          | 406.5MB 1.5MB/s eta 0:02:07�██████████          | 409.3MB 1.4MB/s eta 0:02:11��█████████████████████▍         | 415.0MB 1.4MB/s eta 0:02:07��█████████████████████▋         | 418.5MB 1.4MB/s eta 0:02:04�██████████████▊         | 420.9MB 1.4MB/s eta 0:02:03��█████████████████████▉         | 422.8MB 1.4MB/s eta 0:02:01��██████████████████████         | 424.5MB 1.4MB/s eta 0:02:00��██████████████████████         | 427.0MB 1.4MB/s eta 0:01:584MB 1.4MB/s eta 0:01:560MB 1.3MB/s eta 0:02:010MB 1.3MB/s eta 0:02:001.3MB/s eta 0:01:587MB 1.3MB/s eta 0:01:56███        | 445.2MB 1.3MB/s eta 0:01:54██████▏       | 448.5MB 1.3MB/s eta 0:01:52██████▍       | 451.0MB 1.3MB/s eta 0:01:50�█▌       | 454.7MB 1.3MB/s eta 0:01:47  |████████████████████████▊       | 458.0MB 990kB/s eta 0:02:17  |█████████████████████████       | 463.9MB 990kB/s eta 0:02:11███████▏      | 466.2MB 990kB/s eta 0:02:08��█████████████████▍      | 470.2MB 990kB/s eta 0:02:04��█████████████████▌      | 472.6MB 990kB/s eta 0:02:02��█████████████████▋      | 473.6MB 990kB/s eta 0:02:01��█████████████████▊      | 476.0MB 990kB/s eta 0:01:58█████████████████████████▉      | 478.5MB 990kB/s eta 0:01:56479.8MB 990kB/s eta 0:01:55��██████████████████      | 482.4MB 990kB/s eta 0:01:52   | 504.6MB 1.1MB/s eta 0:01:18�█████████▍    | 506.7MB 1.1MB/s eta 0:01:16�█████████▌    | 509.0MB 1.1MB/s eta 0:01:14�█████████▋    | 510.7MB 1.4MB/s eta 0:01:01   | 512.9MB 1.4MB/s eta 0:00:59█████████████████████    | 516.7MB 1.4MB/s eta 0:00:56█████████████████████    | 519.0MB 1.4MB/s eta 0:00:55��█████████▏   | 522.2MB 1.4MB/s eta 0:00:52��████████▎   | 524.8MB 1.4MB/s eta 0:00:50��█████████▍   | 525.9MB 1.4MB/s eta 0:00:50��█████████▊   | 531.8MB 1.4MB/s eta 0:00:45��████████████████████▎  | 543.3MB 1.0MB/s eta 0:00:48��████████████████████▌  | 545.5MB 1.0MB/s eta 0:00:4646.9MB 1.0MB/s eta 0:00:44█████████▋  | 549.2MB 1.0MB/s eta 0:00:42�██████████████████████████▉  | 552.9MB 1.0MB/s eta 0:00:39|██████████████████████████████  | 555.2MB 1.0MB/s eta 0:00:37    |██████████████████████████████▏ | 559.0MB 1.0MB/s eta 0:00:33    |██████████████████████████████▎ | 560.9MB 1.0MB/s eta 0:00:31��██████████████████████████▍ | 562.8MB 1.5MB/s eta 0:00:20�████████████████████████████▌ | 564.5MB 1.5MB/s eta 0:00:19    |██████████████████████████████▊ | 568.8MB 1.5MB/s eta 0:00:16    |███████████████████████████████ | 572.8MB 1.5MB/s eta 0:00:13�█████████████████████████████ | 575.0MB 1.5MB/s eta 0:00:12██████▏| 577.1MB 1.5MB/s eta 0:00:11██████▎| 580.4MB 1.5MB/s eta 0:00:09██████▍| 582.3MB 1.5MB/s eta 0:00:076.3MB 1.5MB/s eta 0:00:05██████▊| 588.1MB 1.5MB/s eta 0:00:04██████▊| 588.6MB 2.5MB/s eta 0:00:020.4MB 2.5MB/s eta 0:00:01\n",
      "\u001b[?25hRequirement already satisfied: pyyaml in /opt/conda2/lib/python2.7/site-packages (from torch==0.3.0.post4) (3.12)\n",
      "Requirement already satisfied: numpy in /opt/conda2/lib/python2.7/site-packages (from torch==0.3.0.post4) (1.14.5)\n",
      "Installing collected packages: torch\n",
      "Successfully installed torch-0.3.0.post4\n",
      "\u001b[33mWARNING: You are using pip version 19.1.1, however version 19.2.3 is available.\n",
      "You should consider upgrading via the 'pip install --upgrade pip' command.\u001b[0m\n",
      "\u001b[33mDEPRECATION: Python 2.7 will reach the end of its life on January 1st, 2020. Please upgrade your Python as Python 2.7 won't be maintained after that date. A future version of pip will drop support for Python 2.7.\u001b[0m\n",
      "Collecting torchvision\n",
      "\u001b[?25l  Downloading https://files.pythonhosted.org/packages/5a/4f/dec9ae555a91f87586fd9b1e00b9684f08b94027df29b9745bdcdfa1ce03/torchvision-0.4.0-cp27-cp27mu-manylinux1_x86_64.whl (8.8MB)\n",
      "\u001b[K     |████████████████████████████████| 8.8MB 542kB/s eta 0:00:01          | 911kB 163kB/s eta 0:00:49                           | 1.4MB 163kB/s eta 0:00:46 eta 0:00:13 3.2MB 525kB/s eta 0:00:11██████▏              | 4.7MB 525kB/s eta 0:00:08��████████████████████████████▊  | 8.2MB 525kB/s eta 0:00:02\n",
      "\u001b[?25hRequirement already satisfied: numpy in /opt/conda2/lib/python2.7/site-packages (from torchvision) (1.14.5)\n",
      "Requirement already satisfied: six in /opt/conda2/lib/python2.7/site-packages (from torchvision) (1.10.0)\n",
      "Collecting torch==1.2.0 (from torchvision)\n",
      "\u001b[?25l  Downloading https://files.pythonhosted.org/packages/aa/91/d5c9d3fb65ca12c06a3118164a40e6011b7f44c185e0bcd9e055dd1b2b21/torch-1.2.0-cp27-cp27mu-manylinux1_x86_64.whl (748.9MB)\n",
      "\u001b[K     |████████████████████████████████| 748.9MB 17kB/s  eta 0:00:01 | 1.2MB 36.2MB/s eta 0:00:21�                               | 2.7MB 36.2MB/s eta 0:00:21MB/s eta 0:00:21�                               | 8.5MB 581kB/s eta 0:21:14kB/s eta 0:21:09kB/s eta 0:23:07    | 17.2MB 530kB/s eta 0:23:01kB/s eta 0:22:59    | 20.7MB 573kB/s eta 0:21:10                    | 23.5MB 573kB/s eta 0:21:05█▏                              | 26.1MB 533kB/s eta 0:22:35     |█▏                              | 28.2MB 533kB/s eta 0:22:31   |█▎                              | 30.9MB 533kB/s eta 0:22:26     |█▍                              | 33.2MB 624kB/s eta 0:19:07     |█▌                              | 35.6MB 624kB/s eta 0:19:03     |█▋                              | 38.1MB 529kB/s eta 0:22:22[K     |█▊                              | 41.3MB 529kB/s eta 0:22:16     |█▉                              | 43.1MB 529kB/s eta 0:22:12     |██                              | 45.6MB 593kB/s eta 0:19:46                        | 54.9MB 670kB/s eta 0:17:15                        | 56.5MB 670kB/s eta 0:17:13                        | 58.1MB 670kB/s eta 0:17:10                        | 59.7MB 694kB/s eta 0:16:32| 61.5MB 694kB/s eta 0:16:30                        | 62.9MB 694kB/s eta 0:16:28| 64.7MB 694kB/s eta 0:16:25                        | 66.0MB 694kB/s eta 0:16:23| 67.9MB 677kB/s eta 0:16:46                        | 69.7MB 677kB/s eta 0:16:43                        | 70.8MB 677kB/s eta 0:16:41                        | 72.5MB 677kB/s eta 0:16:39                            | 74.3MB 677kB/s eta 0:16:36:16:31| 77.2MB 679kB/s eta 0:16:29| 78.7MB 679kB/s eta 0:16:27| 80.3MB 679kB/s eta 0:16:25| 81.9MB 679kB/s eta 0:16:22| 83.6MB 686kB/s eta 0:16:09| 85.1MB 686kB/s eta 0:16:07| 86.7MB 686kB/s eta 0:16:04| 88.3MB 686kB/s eta 0:16:02                            | 90.2MB 686kB/s eta 0:15:59| 91.5MB 683kB/s eta 0:16:02| 93.1MB 683kB/s eta 0:16:00| 94.7MB 683kB/s eta 0:15:57         | 100.3MB 687kB/s eta 0:15:441.0MB 687kB/s eta 0:15:432.8MB 687kB/s eta 0:15:404.5MB 687kB/s eta 0:15:385.9MB 687kB/s eta 0:15:367.4MB 711kB/s eta 0:15:029.0MB 711kB/s eta 0:15:000.6MB 711kB/s eta 0:14:582.1MB 711kB/s eta 0:14:56   |████▉                           | 113.2MB 711kB/s eta 0:14:54                     | 114.0MB 711kB/s eta 0:14:53                     | 115.6MB 730kB/s eta 0:14:28   |█████                           | 116.5MB 730kB/s eta 0:14:277.5MB 730kB/s eta 0:14:259.2MB 730kB/s eta 0:14:23 |█████▏                          | 121.7MB 730kB/s eta 0:14:19 |█████▎                          | 122.3MB 730kB/s eta 0:14:19 |█████▎                          | 123.3MB 717kB/s eta 0:14:32�▎                          | 124.4MB 717kB/s eta 0:14:30 |█████▍                          | 124.9MB 717kB/s eta 0:14:30 |█████▍                          | 125.5MB 717kB/s eta 0:14:29 |█████▍                          | 126.5MB 717kB/s eta 0:14:27███▍                          | 127.3MB 717kB/s eta 0:14:26███▌                          | 129.1MB 717kB/s eta 0:14:24███▋                          | 132.0MB 726kB/s eta 0:14:10███▊                          | 133.6MB 726kB/s eta 0:14:08 |█████▊                          | 134.4MB 726kB/s eta 0:14:07�█                          | 138.5MB 726kB/s eta 0:14:01                      | 140.4MB 729kB/s eta 0:13:54 |██████                          | 140.8MB 729kB/s eta 0:13:54 |██████                          | 141.2MB 729kB/s eta 0:13:53 | 143.3MB 729kB/s eta 0:13:50    |██████▌                         | 150.9MB 719kB/s eta 0:13:52           | 153.2MB 719kB/s eta 0:13:49    |██████▋                         | 155.7MB 718kB/s eta 0:13:46    |██████▊                         | 157.3MB 718kB/s eta 0:13:44           | 158.6MB 718kB/s eta 0:13:42    |██████▉                         | 160.4MB 718kB/s eta 0:13:392236343028432:4239829                       | 190.7MB 747kB/s eta 0:12:28                  | 196.1MB 753kB/s eta 0:12:1411:5711:5111:4911:38ta 0:11:35331:31:11:2934:14:322439373427                 | 237.5MB 591kB/s eta 0:14:24                 | 240.5MB 591kB/s eta 0:14:19                 | 245.4MB 796kB/s eta 0:10:33                 | 248.5MB 796kB/s eta 0:10:29                 | 250.3MB 796kB/s eta 0:10:27                | 251.6MB 621kB/s eta 0:13:21                 | 258.0MB 621kB/s eta 0:13:11                 | 259.7MB 602kB/s eta 0:13:32�█████████▏                    | 261.2MB 602kB/s eta 0:13:30    |███████████▎                    | 262.9MB 602kB/s eta 0:13:27███████████▎                    | 264.7MB 602kB/s eta 0:13:24    |███████████▍                    | 266.2MB 602kB/s eta 0:13:21███████████▌                    | 267.8MB 590kB/s eta 0:13:35    |███████████▌                    | 269.2MB 590kB/s eta 0:13:33███████████▋                    | 270.6MB 590kB/s eta 0:13:31    |███████████▋                    | 272.4MB 590kB/s eta 0:13:27    |███████████▊                    | 274.0MB 590kB/s eta 0:13:25    |███████████▊                    | 275.5MB 621kB/s eta 0:12:42    |███████████▉                    | 277.1MB 621kB/s eta 0:12:40    |████████████                    | 278.8MB 621kB/s eta 0:12:37    |████████████                    | 280.3MB 621kB/s eta 0:12:34    |████████████                    | 281.9MB 621kB/s eta 0:12:32████████████                    | 283.2MB 601kB/s eta 0:12:54        | 285.0MB 601kB/s eta 0:12:51        | 286.6MB 601kB/s eta 0:12:48        | 288.2MB 601kB/s eta 0:12:46        | 289.8MB 601kB/s eta 0:12:43��███████▌                   | 291.6MB 594kB/s eta 0:12:49��███████▌                   | 293.2MB 594kB/s eta 0:12:47        | 294.5MB 594kB/s eta 0:12:45|████████████▋                   | 296.0MB 594kB/s eta 0:12:42|████████████▉                   | 299.2MB 600kB/s eta 0:12:30��███████▉                   | 301.1MB 600kB/s eta 0:12:26        | 302.8MB 600kB/s eta 0:12:24        | 304.0MB 600kB/s eta 0:12:21        | 305.6MB 600kB/s eta 0:12:19/s eta 0:12:19��█████████▎                  | 310.4MB 598kB/s eta 0:12:13��█████████▍                  | 312.4MB 598kB/s eta 0:12:09��█████████▍                  | 313.5MB 598kB/s eta 0:12:07��█████████▌                  | 315.5MB 626kB/s eta 0:11:33��█████████▋                  | 318.2MB 626kB/s eta 0:11:28��█████████▊                  | 319.8MB 626kB/s eta 0:11:26��█████████▊                  | 321.4MB 626kB/s eta 0:11:23��█████████▉                  | 323.2MB 626kB/s eta 0:11:20          | 329.7MB 626kB/s eta 0:11:10           | 331.2MB 611kB/s eta 0:11:24           | 332.7MB 611kB/s eta 0:11:21 611kB/s eta 0:11:13 610kB/s eta 0:11:11           | 340.7MB 610kB/s eta 0:11:09           | 343.8MB 610kB/s eta 0:11:03 610kB/s eta 0:11:01��███▉                 | 347.2MB 653kB/s eta 0:10:15           | 348.6MB 653kB/s eta 0:10:13 653kB/s eta 0:10:11 653kB/s eta 0:10:08 653kB/s eta 0:10:060kB/s eta 0:10:25████▎                | 356.9MB 630kB/s eta 0:10:220kB/s eta 0:10:20████▍                | 360.1MB 630kB/s eta 0:10:17     | 363.2MB 622kB/s eta 0:10:20��█████████▋                | 364.6MB 622kB/s eta 0:10:18████▋                | 365.8MB 622kB/s eta 0:10:16████▊                | 367.4MB 622kB/s eta 0:10:13████▊                | 369.0MB 622kB/s eta 0:10:11████▉                | 370.6MB 653kB/s eta 0:09:39█████                | 372.1MB 653kB/s eta 0:09:37█████                | 374.0MB 653kB/s eta 0:09:34█████                | 375.3MB 653kB/s eta 0:09:32█████                | 376.9MB 653kB/s eta 0:09:30████████████████▏               | 378.7MB 671kB/s eta 0:09:12    |████████████████▏               | 379.5MB 671kB/s eta 0:09:11    |████████████████▎               | 381.1MB 671kB/s eta 0:09:09    |████████████████▍               | 382.7MB 671kB/s eta 0:09:06    |████████████████▍               | 384.2MB 671kB/s eta 0:09:04    |████████████████▌               | 386.0MB 638kB/s eta 0:09:29    |████████████████▋               | 387.4MB 638kB/s eta 0:09:27    |████████████████▋               | 389.0MB 638kB/s eta 0:09:24    |████████████████▊               | 390.6MB 638kB/s eta 0:09:22    |████████████████▊               | 392.2MB 638kB/s eta 0:09:19    |████████████████▉               | 393.8MB 656kB/s eta 0:09:02█████████████████               | 395.6MB 656kB/s eta 0:08:59    | 407.8MB 659kB/s eta 0:08:37[K     |███████████████████▋            | 459.2MB 669kB/s eta 0:07:13[K     |███████████████████▊            | 460.9MB 669kB/s eta 0:07:11[K     |███████████████████▊            | 462.5MB 669kB/s eta 0:07:08[K     |███████████████████▉            | 464.0MB 669kB/s eta 0:07:06   |████████████████████            | 466.0MB 651kB/s eta 0:07:15[K     |████████████████████            | 467.2MB 651kB/s eta 0:07:13[K     |████████████████████            | 468.8MB 651kB/s eta 0:07:11[K     |████████████████████            | 470.4MB 651kB/s eta 0:07:08     | 472.6MB 651kB/s eta 0:07:05     | 474.2MB 662kB/s eta 0:06:55��███████████████████▍           | 476.1MB 662kB/s eta 0:06:52     | 477.3MB 662kB/s eta 0:06:51     | 480.8MB 662kB/s eta 0:06:45     | 484.1MB 629kB/s eta 0:07:01     | 492.5MB 676kB/s eta 0:06:19�█▏          | 494.1MB 676kB/s eta 0:06:17�█████████▏          | 495.7MB 676kB/s eta 0:06:15�█████████▎          | 497.9MB 700kB/s eta 0:05:59��█████████████████▎          | 499.2MB 700kB/s eta 0:05:571.2MB 700kB/s eta 0:05:54��█████████████████▌          | 503.0MB 700kB/s eta 0:05:524.4MB 700kB/s eta 0:05:506.0MB 625kB/s eta 0:06:297.6MB 625kB/s eta 0:06:26��█████████████████▉          | 510.9MB 625kB/s eta 0:06:21�██████████          | 516.9MB 623kB/s eta 0:06:13��█████████████████████▏         | 518.5MB 623kB/s eta 0:06:10██████████████████▎         | 522.3MB 602kB/s eta 0:06:17��█████████████████████▍         | 523.3MB 602kB/s eta 0:06:15��█████████████████████▌         | 525.5MB 602kB/s eta 0:06:11████████         | 536.7MB 638kB/s eta 0:05:333MB 633kB/s eta 0:05:156MB 633kB/s eta 0:05:152MB 633kB/s eta 0:05:13██▋        | 552.9MB 638kB/s eta 0:05:076MB 638kB/s eta 0:05:02██▉        | 558.3MB 638kB/s eta 0:04:593MB 598kB/s eta 0:05:12██████▏       | 564.5MB 598kB/s eta 0:05:09��███▏       | 565.8MB 598kB/s eta 0:05:07██████▎       | 567.6MB 598kB/s eta 0:05:03��██████████████████████▎       | 569.2MB 626kB/s eta 0:04:47  |████████████████████████▍       | 571.0MB 626kB/s eta 0:04:44██████▌       | 573.0MB 626kB/s eta 0:04:41�█▋       | 576.3MB 626kB/s eta 0:04:36██████▊       | 579.7MB 614kB/s eta 0:04:36██████▉       | 581.3MB 614kB/s eta 0:04:33  |█████████████████████████       | 583.1MB 614kB/s eta 0:04:30��████       | 584.8MB 652kB/s eta 0:04:12��█████████████████▏      | 588.3MB 652kB/s eta 0:04:07�█████▍      | 593.2MB 637kB/s eta 0:04:05��█████████████████▌      | 596.8MB 637kB/s eta 0:03:59��█████████████████▋      | 600.3MB 644kB/s eta 0:03:51███████▊      | 602.1MB 644kB/s eta 0:03:48��█████████████████▉      | 604.1MB 644kB/s eta 0:03:45��█████████████████▉      | 605.8MB 644kB/s eta 0:03:42607.6MB 644kB/s eta 0:03:40��██████████████████      | 609.1MB 613kB/s eta 0:03:48████████████████████▏    | 635.4MB 665kB/s eta 0:02:51   | 637.8MB 665kB/s eta 0:02:47   | 639.9MB 634kB/s eta 0:02:52████████████████████▌    | 643.3MB 634kB/s eta 0:02:47   | 645.3MB 634kB/s eta 0:02:4441�█████████▊    | 648.6MB 584kB/s eta 0:02:52   | 649.3MB 584kB/s eta 0:02:51████████████████████▉    | 651.3MB 584kB/s eta 0:02:48█████████████████████    | 652.9MB 584kB/s eta 0:02:45   | 654.8MB 584kB/s eta 0:02:42█████████████████████    | 656.7MB 655kB/s eta 0:02:21��█████████▏   | 658.9MB 655kB/s eta 0:02:18��█████████▎   | 662.8MB 655kB/s eta 0:02:12��█████████▌   | 666.2MB 646kB/s eta 0:02:08��█████████▌   | 667.9MB 646kB/s eta 0:02:06��█████████▊   | 671.3MB 646kB/s eta 0:02:01��█████████▉   | 675.1MB 626kB/s eta 0:01:58��██████████   | 676.8MB 626kB/s eta 0:01:55��██████████   | 678.7MB 626kB/s eta 0:01:52█████████▎  | 683.9MB 651kB/s eta 0:01:40��████████████████████▍  | 687.6MB 692kB/s eta 0:01:2989.5MB 692kB/s eta 0:01:26��█████████████████▌  | 691.4MB 692kB/s eta 0:01:23��████████████████████▋  | 693.3MB 692kB/s eta 0:01:21��████████████████████▋  | 693.9MB 692kB/s eta 0:01:2095.8MB 720kB/s eta 0:01:14|█████████████████████████████▉  | 697.6MB 720kB/s eta 0:01:12��█████████████████████  | 699.7MB 720kB/s eta 0:01:09��█████████████████████  | 701.9MB 720kB/s eta 0:01:06|██████████████████████████████  | 704.0MB 738kB/s eta 0:01:01    |██████████████████████████████▎ | 707.3MB 738kB/s eta 0:00:57�████████████████████████████▎ | 709.2MB 738kB/s eta 0:00:54    |██████████████████████████████▍ | 709.9MB 738kB/s eta 0:00:53�████████████████████████████▍ | 711.8MB 729kB/s eta 0:00:51██████████████████████████████▊ | 718.8MB 729kB/s eta 0:00:42    |██████████████████████████████▉ | 721.0MB 717kB/s eta 0:00:39    |██████████████████████████████▉ | 722.3MB 717kB/s eta 0:00:38��███████████████████████████ | 723.0MB 717kB/s eta 0:00:37    |███████████████████████████████ | 724.8MB 717kB/s eta 0:00:34    |███████████████████████████████ | 726.6MB 717kB/s eta 0:00:320:298.9MB 717kB/s eta 0:00:280.3MB 717kB/s eta 0:00:260.8MB 717kB/s eta 0:00:264.5MB 717kB/s eta 0:00:21██████▌| 736.2MB 716kB/s eta 0:00:186.9MB 716kB/s eta 0:00:178.1MB 716kB/s eta 0:00:16�██████████████▋| 738.8MB 716kB/s eta 0:00:15██████▊| 742.5MB 716kB/s eta 0:00:093.3MB 755kB/s eta 0:00:08██████▉| 744.6MB 755kB/s eta 0:00:068.7MB 755kB/s eta 0:00:01\n",
      "\u001b[?25hRequirement already satisfied: pillow>=4.1.1 in /opt/conda2/lib/python2.7/site-packages (from torchvision) (4.1.1)\n",
      "Requirement already satisfied: future in /opt/conda2/lib/python2.7/site-packages (from torch==1.2.0->torchvision) (0.16.0)\n",
      "Requirement already satisfied: olefile in /opt/conda2/lib/python2.7/site-packages (from pillow>=4.1.1->torchvision) (0.44)\n",
      "Installing collected packages: torch, torchvision\n",
      "  Found existing installation: torch 0.3.0.post4\n",
      "    Uninstalling torch-0.3.0.post4:\n",
      "      Successfully uninstalled torch-0.3.0.post4\n",
      "Successfully installed torch-1.2.0 torchvision-0.4.0\n",
      "\u001b[33mWARNING: You are using pip version 19.1.1, however version 19.2.3 is available.\n",
      "You should consider upgrading via the 'pip install --upgrade pip' command.\u001b[0m\n"
     ]
    }
   ],
   "source": [
    "!pip install http://download.pytorch.org/whl/cu80/torch-0.3.0.post4-cp27-cp27mu-linux_x86_64.whl \n",
    "!pip install torchvision"
   ]
  },
  {
   "cell_type": "code",
   "execution_count": 4,
   "metadata": {
    "collapsed": false,
    "deletable": true,
    "editable": true
   },
   "outputs": [
    {
     "data": {
      "text/plain": [
       "<torch._C.Generator at 0x7fb39528be70>"
      ]
     },
     "execution_count": 4,
     "metadata": {},
     "output_type": "execute_result"
    }
   ],
   "source": [
    "import torch\n",
    "import torch.autograd as autograd\n",
    "import torch.nn as nn\n",
    "import torch.optim as optim\n",
    "\n",
    "torch.manual_seed(123)"
   ]
  },
  {
   "cell_type": "markdown",
   "metadata": {
    "deletable": true,
    "editable": true
   },
   "source": [
    "Creating Tensors\n",
    "----------------\n",
    "\n",
    "Tensors can be created from Python lists with the <b>torch.Tensor()</b> function.\n",
    "\n",
    "\n"
   ]
  },
  {
   "cell_type": "code",
   "execution_count": 47,
   "metadata": {
    "collapsed": false,
    "deletable": true,
    "editable": true
   },
   "outputs": [
    {
     "name": "stdout",
     "output_type": "stream",
     "text": [
      "<type 'list'>\n",
      "\n",
      " 1\n",
      " 2\n",
      " 3\n",
      "[torch.FloatTensor of size 3]\n",
      "\n",
      "\n",
      " 1  2  3\n",
      " 4  5  6\n",
      "[torch.FloatTensor of size 2x3]\n",
      "\n",
      "\n",
      "(0 ,.,.) = \n",
      "   1   2   3\n",
      "   4   5   6\n",
      "   7   8   9\n",
      "\n",
      "(1 ,.,.) = \n",
      "  10  11  12\n",
      "  13  14  15\n",
      "  16  17  18\n",
      "\n",
      "(2 ,.,.) = \n",
      "  19  20  21\n",
      "  22  23  24\n",
      "  25  26  27\n",
      "[torch.FloatTensor of size 3x3x3]\n",
      "\n",
      "\n",
      "(0 ,0 ,.,.) = \n",
      "  0.4934 -0.2766  0.2439\n",
      " -1.2116 -0.1520  0.1509\n",
      " -0.6251 -0.4416  0.3208\n",
      "\n",
      "(0 ,1 ,.,.) = \n",
      " -0.3273 -0.5305 -0.0172\n",
      "  0.4719  0.5671  2.7930\n",
      "  0.3229  0.8552  0.7492\n",
      "\n",
      "(0 ,2 ,.,.) = \n",
      " -1.7119  0.6025 -0.7018\n",
      " -1.3130  0.1574  2.0114\n",
      "  0.1004  0.8222 -0.0176\n",
      "\n",
      "(1 ,0 ,.,.) = \n",
      "  1.2481 -0.0710  2.1627\n",
      "  1.5215 -1.0547  1.7822\n",
      "  1.9736 -0.3101 -0.8211\n",
      "\n",
      "(1 ,1 ,.,.) = \n",
      "  0.1315 -0.6948 -0.5823\n",
      "  1.0035 -1.4613  0.8985\n",
      "  0.6210 -0.9679  0.6740\n",
      "\n",
      "(1 ,2 ,.,.) = \n",
      " -1.2828 -0.5097  0.1464\n",
      " -0.4860 -0.7529  1.6989\n",
      "  0.4991 -2.1702  0.5130\n",
      "\n",
      "(2 ,0 ,.,.) = \n",
      " -1.9029  0.8260 -0.6644\n",
      "  1.6663 -0.5704  1.3906\n",
      " -1.4855  0.2987 -0.3029\n",
      "\n",
      "(2 ,1 ,.,.) = \n",
      "  0.3354  1.0599  0.1941\n",
      " -0.9295  0.5329 -1.1307\n",
      "  0.1024  2.5200 -1.2324\n",
      "\n",
      "(2 ,2 ,.,.) = \n",
      " -0.8294  0.4342 -0.7374\n",
      "  0.1591 -1.3560  0.5513\n",
      "  0.3732  1.4246 -0.6860\n",
      "\n",
      "(3 ,0 ,.,.) = \n",
      " -0.4791  2.2610  1.3191\n",
      "  1.0130  1.6650  0.8469\n",
      "  0.2564  0.8049 -0.3107\n",
      "\n",
      "(3 ,1 ,.,.) = \n",
      " -0.9208 -0.1507 -0.6977\n",
      "  1.5227  2.4308  1.5695\n",
      " -0.0657 -0.4277  0.2537\n",
      "\n",
      "(3 ,2 ,.,.) = \n",
      "  0.7337  1.1388  0.5516\n",
      " -0.6187 -0.6503  0.3017\n",
      "  0.6113  0.4344 -0.3423\n",
      "[torch.FloatTensor of size 4x3x3x3]\n",
      "\n"
     ]
    }
   ],
   "source": [
    "# Create a torch.Tensor object from python list\n",
    "v = [1, 2, 3]\n",
    "print(type(v))\n",
    "v_tensor = torch.Tensor(v)\n",
    "print(v_tensor)\n",
    "\n",
    "# Create a torch.Tensor object of size 2x3 from 2x3 matrix\n",
    "m2x3 = [[1, 2, 3], [4, 5, 6]]\n",
    "m2x3_tensor = torch.Tensor(m2x3)\n",
    "print(m2x3_tensor)\n",
    "\n",
    "# Create a 3D torch.Tensor object of size 3x3x3.\n",
    "m3x3x3 = [[[1, 2, 3], [4, 5, 6], [7, 8, 9]],\n",
    "          [[10, 11, 12],[13, 14, 15], [16, 17, 18]],\n",
    "            [[19, 20, 21],[22, 23, 24], [25, 26, 27]]]\n",
    "m3x3x3_tensor = torch.Tensor(m3x3x3)\n",
    "print(m3x3x3_tensor)\n",
    "\n",
    "#Create a 4Dtensor from random data and given dimensions (in this case 3x4x5x6) with torch.randn()\n",
    "m4x3x3x3_tensor = torch.randn((4, 3, 3, 3))\n",
    "m4x3x3x3_tensor.shape\n",
    "print(m4x3x3x3_tensor)"
   ]
  },
  {
   "cell_type": "markdown",
   "metadata": {
    "deletable": true,
    "editable": true
   },
   "source": [
    "What is a multidimensional tensor?\n",
    "-------------------\n",
    "Since we frequently deal with n > 3 dimensional tensors, its understanding is very important. \n",
    "The best way to think of a higher (n) dimensional object (and tensor in particular) is as of a container which keeps a series of n-1 dimensional objects \"inside\" of it. We can \"pull out\" these \"inner\" objects by indexing in to higher dimensional tensor container.\n",
    "Let's have a look on some examples:\n",
    "\n",
    "- For a vector v (dim(v)=1), indexing into it (\"pulling out of it\") returns its \"slice\" - a scalar s (dim(s)=0). \n",
    "\n",
    "- For a matrix, indexing into it returns its \"slice\" - a (row or column) vector. \n",
    "\n",
    "- 3D tensor can be seen as a cube or 3D rectangular consisting of horizontally \"stacked\" matrices. So if we index into a such tensor it will give us its slice which is a matrix!\n",
    "\n",
    "- We can't easily visualize 5D (or n-D) tensors, but the idea is actually the same. If we index in to them, we will pull out an object of dimension n-1.\n",
    "\n",
    "- E.g. a 4D tensor can be seen as a list of cubes or 3D reactangulars. If we index in to a 4D tensor, we will get 3D rectangulars.\n",
    "\n",
    "![IMG_0120.png](attachment:IMG_0120.png)\n"
   ]
  },
  {
   "cell_type": "code",
   "execution_count": 46,
   "metadata": {
    "collapsed": false,
    "deletable": true,
    "editable": true
   },
   "outputs": [
    {
     "name": "stdout",
     "output_type": "stream",
     "text": [
      "1.0\n",
      "\n",
      " 1\n",
      " 2\n",
      " 3\n",
      "[torch.FloatTensor of size 3]\n",
      "\n",
      "\n",
      " 1  2  3\n",
      " 4  5  6\n",
      " 7  8  9\n",
      "[torch.FloatTensor of size 3x3]\n",
      "\n",
      "\n",
      "(0 ,.,.) = \n",
      " -0.1115  0.1204 -0.3696\n",
      " -0.2404 -1.1969  0.2093\n",
      " -0.9724 -0.7550  0.3239\n",
      "\n",
      "(1 ,.,.) = \n",
      " -0.1085  0.2103 -0.3908\n",
      "  0.2350  0.6653  0.3528\n",
      "  0.9728 -0.0386 -0.8861\n",
      "\n",
      "(2 ,.,.) = \n",
      " -0.4709 -0.4269 -0.0283\n",
      "  1.4220 -0.3886 -0.8903\n",
      " -0.9601 -0.4087  1.0764\n",
      "[torch.FloatTensor of size 3x3x3]\n",
      "\n"
     ]
    }
   ],
   "source": [
    "# Index into v_tensor and get a scalar\n",
    "print(v_tensor[0])\n",
    "\n",
    "# Index into m2x3_tensor and get a vector\n",
    "print(m2x3_tensor[0])\n",
    "\n",
    "# Index into m3x3x3_tensor and get a matrix\n",
    "print(m3x3x3_tensor[0])\n",
    "\n",
    "# Index into m4x3x3x3_tensor and get a 3D rectangular of size 4x5x6\n",
    "print(m4x3x3x3_tensor[0])"
   ]
  },
  {
   "cell_type": "markdown",
   "metadata": {
    "deletable": true,
    "editable": true
   },
   "source": [
    "Operations with Tensors\n",
    "----------------------\n",
    "\n",
    "You can operate on tensors in the ways you would expect.\n",
    "See the documentation <http://pytorch.org/docs/torch.html> for a complete list of operations.\n",
    "\n"
   ]
  },
  {
   "cell_type": "markdown",
   "metadata": {
    "deletable": true,
    "editable": true
   },
   "source": [
    "Simple mathematical operations: <b>Addition, Multiplication</b>\n",
    "                                     "
   ]
  },
  {
   "cell_type": "code",
   "execution_count": 76,
   "metadata": {
    "collapsed": false,
    "deletable": true,
    "editable": true
   },
   "outputs": [
    {
     "name": "stdout",
     "output_type": "stream",
     "text": [
      "\n",
      " 1\n",
      " 2\n",
      " 3\n",
      "[torch.FloatTensor of size 3]\n",
      "\n",
      "\n",
      " 4\n",
      " 5\n",
      " 6\n",
      "[torch.FloatTensor of size 3]\n",
      "\n",
      "32.0\n"
     ]
    }
   ],
   "source": [
    "x = torch.Tensor([1, 2, 3])\n",
    "y = torch.Tensor([4, 5, 6])\n",
    "print(x)\n",
    "print(y)\n",
    "\n",
    "w = torch.matmul(x, y)\n",
    "print(w)"
   ]
  },
  {
   "cell_type": "markdown",
   "metadata": {
    "deletable": true,
    "editable": true
   },
   "source": [
    "Helpful operation: <b>Concatenation</b>\n"
   ]
  },
  {
   "cell_type": "code",
   "execution_count": 78,
   "metadata": {
    "collapsed": false,
    "deletable": true,
    "editable": true
   },
   "outputs": [
    {
     "name": "stdout",
     "output_type": "stream",
     "text": [
      "\n",
      " 0.5374 -0.0899 -0.7969 -0.7968 -0.2611\n",
      " 0.4808 -0.1458 -0.5357 -0.7330  2.3465\n",
      "[torch.FloatTensor of size 2x5]\n",
      "\n",
      "\n",
      "-0.4654  1.4965  2.7607 -1.4606  1.0825\n",
      "-0.9363 -0.2594 -1.3465  0.5388  0.0382\n",
      "-0.1434  1.4049  0.0889  0.5171 -0.0214\n",
      "[torch.FloatTensor of size 3x5]\n",
      "\n",
      "\n",
      " 0.5374 -0.0899 -0.7969 -0.7968 -0.2611\n",
      " 0.4808 -0.1458 -0.5357 -0.7330  2.3465\n",
      "-0.4654  1.4965  2.7607 -1.4606  1.0825\n",
      "-0.9363 -0.2594 -1.3465  0.5388  0.0382\n",
      "-0.1434  1.4049  0.0889  0.5171 -0.0214\n",
      "[torch.FloatTensor of size 5x5]\n",
      "\n",
      "\n",
      "-0.2001 -0.6503 -0.2019\n",
      " 0.1262 -0.0708  1.4592\n",
      "[torch.FloatTensor of size 2x3]\n",
      "\n",
      "\n",
      " 0.5823  0.0048 -0.2069 -0.5939 -1.3076\n",
      " 0.9156  0.3748 -1.3108 -2.6207 -1.2696\n",
      " 0.9036 -1.3043  0.3300 -0.6928 -1.5125\n",
      "[torch.FloatTensor of size 3x5]\n",
      "\n"
     ]
    },
    {
     "ename": "RuntimeError",
     "evalue": "inconsistent tensor sizes at /pytorch/torch/lib/TH/generic/THTensorMath.c:2864",
     "output_type": "error",
     "traceback": [
      "\u001b[0;31m\u001b[0m",
      "\u001b[0;31mRuntimeError\u001b[0mTraceback (most recent call last)",
      "\u001b[0;32m<ipython-input-78-c85240a5062e>\u001b[0m in \u001b[0;36m<module>\u001b[0;34m()\u001b[0m\n\u001b[1;32m     14\u001b[0m \u001b[0;32mprint\u001b[0m\u001b[0;34m(\u001b[0m\u001b[0my_2\u001b[0m\u001b[0;34m)\u001b[0m\u001b[0;34m\u001b[0m\u001b[0m\n\u001b[1;32m     15\u001b[0m \u001b[0;31m# second arg specifies which axis to concat along. Here we select 1 (columns). It's attaching the columns.\u001b[0m\u001b[0;34m\u001b[0m\u001b[0;34m\u001b[0m\u001b[0m\n\u001b[0;32m---> 16\u001b[0;31m \u001b[0mz_2\u001b[0m \u001b[0;34m=\u001b[0m \u001b[0mtorch\u001b[0m\u001b[0;34m.\u001b[0m\u001b[0mcat\u001b[0m\u001b[0;34m(\u001b[0m\u001b[0;34m[\u001b[0m\u001b[0mx_2\u001b[0m\u001b[0;34m,\u001b[0m \u001b[0my_2\u001b[0m\u001b[0;34m]\u001b[0m\u001b[0;34m,\u001b[0m \u001b[0;36m1\u001b[0m\u001b[0;34m)\u001b[0m\u001b[0;34m\u001b[0m\u001b[0m\n\u001b[0m\u001b[1;32m     17\u001b[0m \u001b[0;32mprint\u001b[0m\u001b[0;34m(\u001b[0m\u001b[0mz_2\u001b[0m\u001b[0;34m)\u001b[0m\u001b[0;34m\u001b[0m\u001b[0m\n\u001b[1;32m     18\u001b[0m \u001b[0;34m\u001b[0m\u001b[0m\n",
      "\u001b[0;31mRuntimeError\u001b[0m: inconsistent tensor sizes at /pytorch/torch/lib/TH/generic/THTensorMath.c:2864"
     ]
    }
   ],
   "source": [
    "# By default, it concatenates along the axis with 0 (rows). It's \"stacking\" the rows.\n",
    "\n",
    "x_1 = torch.randn(2, 5)\n",
    "print(x_1)\n",
    "y_1 = torch.randn(3, 5)\n",
    "print(y_1)\n",
    "z_1 = torch.cat([x_1, y_1])\n",
    "print(z_1)\n",
    "\n",
    "# Concatenate columns:\n",
    "x_2 = torch.randn(2, 3)\n",
    "print(x_2)\n",
    "y_2 = torch.randn(3, 5)\n",
    "print(y_2)\n",
    "# second arg specifies which axis to concat along. Here we select 1 (columns). It's attaching the columns.\n",
    "z_2 = torch.cat([x_2, y_2], 1)\n",
    "print(z_2)\n",
    "\n",
    "# If your tensors are not compatible, torch will complain.  Uncomment to see the error\n",
    "torch.cat([x_1, x_2])"
   ]
  },
  {
   "cell_type": "markdown",
   "metadata": {
    "deletable": true,
    "editable": true
   },
   "source": [
    "Reshaping Tensors\n",
    "----------------\n",
    "\n",
    "We can use the <code>.view()</code> method to reshape a tensor. Often we will need to reshape our data before passing it\n",
    "to a neuronal network.\n",
    "\n",
    "Let's assume we have 64000 RGB images with the size of 28x28 pixels.\n",
    "We can define an array fo shape (64000, 3, 28, 28) to hold them, where 3 is number of color channels:\n"
   ]
  },
  {
   "cell_type": "code",
   "execution_count": 97,
   "metadata": {
    "collapsed": false,
    "deletable": true,
    "editable": true
   },
   "outputs": [
    {
     "name": "stdout",
     "output_type": "stream",
     "text": [
      "torch.Size([32, 2000, 3, 28, 28])\n"
     ]
    }
   ],
   "source": [
    "x = torch.randn(64000, 3, 28, 28)\n",
    "# Now we want to add a batch dimension of size 32. We can then infer the second dimension by placing -1:\n",
    "x_rehsaped = x.view(32, -1, 3, 28, 28)\n",
    "print(x_rehsaped.shape)"
   ]
  },
  {
   "cell_type": "markdown",
   "metadata": {
    "deletable": true,
    "editable": true
   },
   "source": [
    "Computation Graphs and Automatic Differentiation\n",
    "---------------------------------------------\n",
    "\n",
    "A computation graph is a specification of what parameters with which operations are involved in the computation to give the output. \n",
    "\n",
    "The fundamental class of Pytorch <code>autograd.Variable</code> keeps track of how it was created.\n"
   ]
  },
  {
   "cell_type": "code",
   "execution_count": 100,
   "metadata": {
    "collapsed": false,
    "deletable": true,
    "editable": true
   },
   "outputs": [
    {
     "name": "stdout",
     "output_type": "stream",
     "text": [
      "\n",
      " 1\n",
      " 2\n",
      " 3\n",
      "[torch.FloatTensor of size 3]\n",
      "\n",
      "\n",
      " 5\n",
      " 7\n",
      " 9\n",
      "[torch.FloatTensor of size 3]\n",
      "\n",
      "<AddBackward1 object at 0x7fe41361ffd0>\n"
     ]
    }
   ],
   "source": [
    "# Variables wrap tensor objects\n",
    "x = autograd.Variable(torch.Tensor([1, 2, 3]), requires_grad=True)\n",
    "# You can access the data with the .data attribute\n",
    "print(x.data)\n",
    "\n",
    "y = autograd.Variable(torch.Tensor([4, 5, 6]), requires_grad=True)\n",
    "\n",
    "# With autograd.Variable you can also perform all the same operations you did with tensors\n",
    "z = x + y\n",
    "print(z.data)\n",
    "\n",
    "#  w knows also that it's result of addition of z lements (AddBackward)\n",
    "operation = z.grad_fn\n",
    "print(operation)\n"
   ]
  },
  {
   "cell_type": "markdown",
   "metadata": {
    "deletable": true,
    "editable": true
   },
   "source": [
    "The autograd.Variable knows which operation has created it. But how does that help <b>compute a gradient</b>?"
   ]
  },
  {
   "cell_type": "code",
   "execution_count": 101,
   "metadata": {
    "collapsed": false,
    "deletable": true,
    "editable": true
   },
   "outputs": [
    {
     "name": "stdout",
     "output_type": "stream",
     "text": [
      "Variable containing:\n",
      " 21\n",
      "[torch.FloatTensor of size 1]\n",
      "\n",
      "<SumBackward0 object at 0x7fe413507cd0>\n"
     ]
    }
   ],
   "source": [
    "# Lets sum up all the entries in z\n",
    "s = z.sum()\n",
    "print(s)\n",
    "print(s.grad_fn)"
   ]
  },
  {
   "cell_type": "markdown",
   "metadata": {
    "deletable": true,
    "editable": true
   },
   "source": [
    "Gradient\n",
    "-------\n",
    "So now, what is the derivative of this sum with respect to the first component of x? Remember, that x is a tensor of 3 elements: $x = (x_0, x_1, x_2)$\n",
    "\n",
    "In math, we want a partial derivative of $s$ with respect to $x_0$: $\\frac{\\partial s}{\\partial x_0}$\n",
    "\n",
    "Well, $s$ knows that it was created as a $sum$ of the tensor $z$ elements $(z_0, z_1, z_2)$. $z$ knows\n",
    "that it was the sum $x + y$. So\n",
    "\n",
    "\\begin{align}s = \\overbrace{x_0 + y_0}^\\text{$z_0$} + \\overbrace{x_1 + y_1}^\\text{$z_1$} + \\overbrace{x_2 + y_2}^\\text{$z_2$}\\end{align}\n",
    "\n",
    "And so $s$ contains enough information to determine that the derivative of $s$ with respect to $x_0$ is 1!\n",
    "\n",
    "*Reminder:* If you compute the partial derivative with respekt to one variable, you handle all other variables as constants. Therefore they all $(x_1, x_2, y_0, y_1, y_2)$ get zeroes, and the derivative of $f(x_0) = x_0$ is 1.\n",
    "\n"
   ]
  },
  {
   "cell_type": "markdown",
   "metadata": {
    "deletable": true,
    "editable": true
   },
   "source": [
    "First we need to run <b>backpropagation</b> and calculate gradients with respect to every variable.\n",
    "*Note:* if you run <code>backward</code> multiple times, the gradient will increment.\n",
    "That is because Pytorch *accumulates* the gradient into the <b>.grad\n",
    "property</b>, since for many models this is very convenient.\n",
    "Lets now have Pytorch compute the gradient, and see that we were right with our guess of 1:"
   ]
  },
  {
   "cell_type": "code",
   "execution_count": 106,
   "metadata": {
    "collapsed": true,
    "deletable": true,
    "editable": true
   },
   "outputs": [],
   "source": [
    "# calling .backward() on any variable will run backprop, starting from it.\n",
    "s.backward(retain_graph=True)\n"
   ]
  },
  {
   "cell_type": "code",
   "execution_count": 107,
   "metadata": {
    "collapsed": false,
    "deletable": true,
    "editable": true
   },
   "outputs": [
    {
     "name": "stdout",
     "output_type": "stream",
     "text": [
      "Variable containing:\n",
      " 1\n",
      " 2\n",
      " 3\n",
      "[torch.FloatTensor of size 3]\n",
      "\n",
      "Variable containing:\n",
      " 3\n",
      " 3\n",
      " 3\n",
      "[torch.FloatTensor of size 3]\n",
      "\n",
      "Variable containing:\n",
      " 3\n",
      " 3\n",
      " 3\n",
      "[torch.FloatTensor of size 3]\n",
      "\n"
     ]
    }
   ],
   "source": [
    "print(x)\n",
    "print(x.grad)\n",
    "print(y.grad)"
   ]
  },
  {
   "cell_type": "markdown",
   "metadata": {
    "deletable": true,
    "editable": true
   },
   "source": [
    "How NOT to break the computational graph\n",
    "----------------------------------\n",
    "\n",
    "\n"
   ]
  },
  {
   "cell_type": "markdown",
   "metadata": {
    "deletable": true,
    "editable": true
   },
   "source": [
    "Let's create two torch tensors and add them up:"
   ]
  },
  {
   "cell_type": "code",
   "execution_count": 109,
   "metadata": {
    "collapsed": false,
    "deletable": true,
    "editable": true
   },
   "outputs": [
    {
     "name": "stdout",
     "output_type": "stream",
     "text": [
      "\n",
      " 0.1730  1.8913\n",
      " 0.1251  0.1286\n",
      "[torch.FloatTensor of size 2x2]\n",
      "\n"
     ]
    }
   ],
   "source": [
    "x = torch.randn((2, 2))\n",
    "y = torch.randn((2, 2))\n",
    "z = x + y  # These are Tensor types, and backprop would not be possible\n",
    "\n",
    "print(z)\n",
    "\n"
   ]
  },
  {
   "cell_type": "markdown",
   "metadata": {
    "deletable": true,
    "editable": true
   },
   "source": [
    "Now we wrap the torch tensors in <code>autograd.Variable</code>. The <code>var_z</code> contains the information for backpropagation:"
   ]
  },
  {
   "cell_type": "code",
   "execution_count": 111,
   "metadata": {
    "collapsed": false,
    "deletable": true,
    "editable": true
   },
   "outputs": [
    {
     "name": "stdout",
     "output_type": "stream",
     "text": [
      "<AddBackward1 object at 0x7fe41352c110>\n"
     ]
    }
   ],
   "source": [
    "var_x = autograd.Variable(x, requires_grad=True)\n",
    "var_y = autograd.Variable(y, requires_grad=True)\n",
    "# var_z contains enough information to compute gradients, as we saw above\n",
    "var_z = var_x + var_y\n",
    "print(var_z.grad_fn)"
   ]
  },
  {
   "cell_type": "markdown",
   "metadata": {
    "deletable": true,
    "editable": true
   },
   "source": [
    "But what happens if we extract the wrapped tensor object out of <code>var_z</code> and re-wrap the tensor in a new <code>autograd.Variable</code>?"
   ]
  },
  {
   "cell_type": "code",
   "execution_count": 112,
   "metadata": {
    "collapsed": false,
    "deletable": true,
    "editable": true
   },
   "outputs": [
    {
     "name": "stdout",
     "output_type": "stream",
     "text": [
      "None\n"
     ]
    }
   ],
   "source": [
    "var_z_data = var_z.data\n",
    "new_var_z = autograd.Variable(var_z_data)\n",
    "print(new_var_z.grad_fn)"
   ]
  },
  {
   "cell_type": "markdown",
   "metadata": {
    "deletable": true,
    "editable": true
   },
   "source": [
    "The variable chain is not existing anymore, since we have extracted only data and the whole operations chain was lost.\n",
    "If we try now to compute <code>backward</code> on <code>new_var_z</code>, it will throw an error:\n",
    "\n"
   ]
  },
  {
   "cell_type": "code",
   "execution_count": 113,
   "metadata": {
    "collapsed": false,
    "deletable": true,
    "editable": true
   },
   "outputs": [
    {
     "ename": "RuntimeError",
     "evalue": "element 0 of variables does not require grad and does not have a grad_fn",
     "output_type": "error",
     "traceback": [
      "\u001b[0;31m\u001b[0m",
      "\u001b[0;31mRuntimeError\u001b[0mTraceback (most recent call last)",
      "\u001b[0;32m<ipython-input-113-9385e2013798>\u001b[0m in \u001b[0;36m<module>\u001b[0;34m()\u001b[0m\n\u001b[0;32m----> 1\u001b[0;31m \u001b[0mnew_var_z\u001b[0m\u001b[0;34m.\u001b[0m\u001b[0mbackward\u001b[0m\u001b[0;34m(\u001b[0m\u001b[0mretain_graph\u001b[0m\u001b[0;34m=\u001b[0m\u001b[0mTrue\u001b[0m\u001b[0;34m)\u001b[0m\u001b[0;34m\u001b[0m\u001b[0m\n\u001b[0m",
      "\u001b[0;32m/gpfs/fs01/user/s5b4-5d8779714d1900-f211816cda7e/.local/lib/python2.7/site-packages/torch/autograd/variable.pyc\u001b[0m in \u001b[0;36mbackward\u001b[0;34m(self, gradient, retain_graph, create_graph, retain_variables)\u001b[0m\n\u001b[1;32m    165\u001b[0m                 \u001b[0mVariable\u001b[0m\u001b[0;34m.\u001b[0m\u001b[0;34m\u001b[0m\u001b[0m\n\u001b[1;32m    166\u001b[0m         \"\"\"\n\u001b[0;32m--> 167\u001b[0;31m         \u001b[0mtorch\u001b[0m\u001b[0;34m.\u001b[0m\u001b[0mautograd\u001b[0m\u001b[0;34m.\u001b[0m\u001b[0mbackward\u001b[0m\u001b[0;34m(\u001b[0m\u001b[0mself\u001b[0m\u001b[0;34m,\u001b[0m \u001b[0mgradient\u001b[0m\u001b[0;34m,\u001b[0m \u001b[0mretain_graph\u001b[0m\u001b[0;34m,\u001b[0m \u001b[0mcreate_graph\u001b[0m\u001b[0;34m,\u001b[0m \u001b[0mretain_variables\u001b[0m\u001b[0;34m)\u001b[0m\u001b[0;34m\u001b[0m\u001b[0m\n\u001b[0m\u001b[1;32m    168\u001b[0m \u001b[0;34m\u001b[0m\u001b[0m\n\u001b[1;32m    169\u001b[0m     \u001b[0;32mdef\u001b[0m \u001b[0mregister_hook\u001b[0m\u001b[0;34m(\u001b[0m\u001b[0mself\u001b[0m\u001b[0;34m,\u001b[0m \u001b[0mhook\u001b[0m\u001b[0;34m)\u001b[0m\u001b[0;34m:\u001b[0m\u001b[0;34m\u001b[0m\u001b[0m\n",
      "\u001b[0;32m/gpfs/fs01/user/s5b4-5d8779714d1900-f211816cda7e/.local/lib/python2.7/site-packages/torch/autograd/__init__.pyc\u001b[0m in \u001b[0;36mbackward\u001b[0;34m(variables, grad_variables, retain_graph, create_graph, retain_variables)\u001b[0m\n\u001b[1;32m     97\u001b[0m \u001b[0;34m\u001b[0m\u001b[0m\n\u001b[1;32m     98\u001b[0m     Variable._execution_engine.run_backward(\n\u001b[0;32m---> 99\u001b[0;31m         variables, grad_variables, retain_graph)\n\u001b[0m\u001b[1;32m    100\u001b[0m \u001b[0;34m\u001b[0m\u001b[0m\n\u001b[1;32m    101\u001b[0m \u001b[0;34m\u001b[0m\u001b[0m\n",
      "\u001b[0;31mRuntimeError\u001b[0m: element 0 of variables does not require grad and does not have a grad_fn"
     ]
    }
   ],
   "source": [
    "new_var_z.backward(retain_graph=True)"
   ]
  },
  {
   "cell_type": "markdown",
   "metadata": {
    "deletable": true,
    "editable": true
   },
   "source": [
    "CUDA\n",
    "----\n",
    "Check wether GPU accelaration with **CUDA** is available"
   ]
  },
  {
   "cell_type": "code",
   "execution_count": 42,
   "metadata": {
    "collapsed": true,
    "deletable": true,
    "editable": true
   },
   "outputs": [],
   "source": [
    "# let us run this cell only if CUDA is available\n",
    "if torch.cuda.is_available():\n",
    "    # creates a LongTensor and transfers it\n",
    "    # to GPU as torch.cuda.LongTensor\n",
    "    a = torch.LongTensor(10).fill_(3).cuda()\n",
    "    print(type(a))\n",
    "    b = a.cpu()\n",
    "    # transfers it to CPU, back to\n",
    "    # being a torch.LongTensor"
   ]
  },
  {
   "cell_type": "markdown",
   "metadata": {
    "deletable": true,
    "editable": true
   },
   "source": [
    "Linear Model\n",
    "======="
   ]
  },
  {
   "cell_type": "code",
   "execution_count": 1,
   "metadata": {
    "collapsed": true,
    "deletable": true,
    "editable": true
   },
   "outputs": [],
   "source": [
    "import torch\n",
    "import torch.nn as nn\n",
    "from torch.autograd import Variable\n",
    "import numpy as np"
   ]
  },
  {
   "cell_type": "code",
   "execution_count": 2,
   "metadata": {
    "collapsed": false,
    "deletable": true,
    "editable": true
   },
   "outputs": [
    {
     "name": "stdout",
     "output_type": "stream",
     "text": [
      "[0, 1, 2, 3, 4, 5, 6, 7, 8, 9, 10, 11, 12, 13, 14, 15, 16, 17, 18, 19]\n",
      "(20, 1)\n",
      "[2, 7, 12, 17, 22, 27, 32, 37, 42, 47, 52, 57, 62, 67, 72, 77, 82, 87, 92, 97]\n",
      "(20, 1)\n"
     ]
    }
   ],
   "source": [
    "x = [i for i in range(20)] #list comprehention\n",
    "x_train = np.array(x, dtype=np.float32)\n",
    "x_train = x_train.reshape(-1, 1)\n",
    "print(x)\n",
    "print(x_train.shape)\n",
    "\n",
    "y = [(5*i + 2) for i in x] #list comprehention\n",
    "y_train = np.array(y, dtype=np.float32)\n",
    "y_train = y_train.reshape(-1, 1)\n",
    "print(y)\n",
    "print(y_train.shape)\n"
   ]
  },
  {
   "cell_type": "markdown",
   "metadata": {
    "deletable": true,
    "editable": true
   },
   "source": [
    "Create Model Class\n",
    "-----------------"
   ]
  },
  {
   "cell_type": "code",
   "execution_count": 6,
   "metadata": {
    "collapsed": false,
    "deletable": true,
    "editable": true
   },
   "outputs": [
    {
     "data": {
      "text/plain": [
       "LinearRegressor(\n",
       "  (linear): Linear(in_features=1, out_features=1)\n",
       ")"
      ]
     },
     "execution_count": 6,
     "metadata": {},
     "output_type": "execute_result"
    }
   ],
   "source": [
    "\n",
    "class LinearRegressor(nn.Module):\n",
    "    def __init__(self, input_dim, output_dim):\n",
    "        super(LinearRegressor, self).__init__()\n",
    "        self.linear = nn.Linear(input_dim, output_dim)  \n",
    "    \n",
    "    def forward(self, x):\n",
    "        out = self.linear(x)\n",
    "        return out\n",
    "\n",
    "input_dim = 1\n",
    "output_dim = 1\n",
    "\n",
    "model = LinearRegressor(input_dim, output_dim)\n",
    "\n",
    "model"
   ]
  },
  {
   "cell_type": "markdown",
   "metadata": {
    "deletable": true,
    "editable": true
   },
   "source": [
    "Loss & Optimizer\n",
    "---------------"
   ]
  },
  {
   "cell_type": "code",
   "execution_count": 7,
   "metadata": {
    "collapsed": false,
    "deletable": true,
    "editable": true
   },
   "outputs": [
    {
     "data": {
      "text/plain": [
       "MSELoss(\n",
       ")"
      ]
     },
     "execution_count": 7,
     "metadata": {},
     "output_type": "execute_result"
    }
   ],
   "source": [
    "loss_function = nn.MSELoss()\n",
    "\n",
    "\n",
    "optimizer = torch.optim.SGD(model.parameters(), lr=0.001)\n",
    "optimizer\n",
    "loss_function"
   ]
  },
  {
   "cell_type": "code",
   "execution_count": 8,
   "metadata": {
    "collapsed": false,
    "deletable": true,
    "editable": true
   },
   "outputs": [
    {
     "name": "stdout",
     "output_type": "stream",
     "text": [
      "epoch 1, loss 3330.96435547\n",
      "epoch 2, loss 1881.8626709\n",
      "epoch 3, loss 1063.4017334\n",
      "epoch 4, loss 601.130065918\n",
      "epoch 5, loss 340.03616333\n",
      "epoch 6, loss 192.568328857\n",
      "epoch 7, loss 109.277175903\n",
      "epoch 8, loss 62.2333488464\n",
      "epoch 9, loss 35.6621856689\n",
      "epoch 10, loss 20.6541633606\n",
      "epoch 11, loss 12.1769609451\n",
      "epoch 12, loss 7.38844966888\n",
      "epoch 13, loss 4.68333339691\n",
      "epoch 14, loss 3.15493202209\n",
      "epoch 15, loss 2.29113745689\n",
      "epoch 16, loss 1.80271029472\n",
      "epoch 17, loss 1.52630400658\n",
      "epoch 18, loss 1.36964297295\n",
      "epoch 19, loss 1.28061759472\n",
      "epoch 20, loss 1.22979319096\n",
      "epoch 21, loss 1.20054602623\n",
      "epoch 22, loss 1.18348562717\n",
      "epoch 23, loss 1.17330884933\n",
      "epoch 24, loss 1.16701996326\n",
      "epoch 25, loss 1.16292822361\n",
      "epoch 26, loss 1.16007828712\n",
      "epoch 27, loss 1.15793061256\n",
      "epoch 28, loss 1.15617823601\n",
      "epoch 29, loss 1.15465211868\n",
      "epoch 30, loss 1.15325260162\n",
      "epoch 31, loss 1.15192627907\n",
      "epoch 32, loss 1.15064108372\n",
      "epoch 33, loss 1.14937984943\n",
      "epoch 34, loss 1.14813303947\n",
      "epoch 35, loss 1.14689469337\n",
      "epoch 36, loss 1.14566218853\n",
      "epoch 37, loss 1.14443290234\n",
      "epoch 38, loss 1.14320623875\n",
      "epoch 39, loss 1.14198327065\n",
      "epoch 40, loss 1.14075922966\n",
      "epoch 41, loss 1.13953721523\n",
      "epoch 42, loss 1.13831853867\n",
      "epoch 43, loss 1.13709974289\n",
      "epoch 44, loss 1.13588225842\n",
      "epoch 45, loss 1.13466560841\n",
      "epoch 46, loss 1.13345181942\n",
      "epoch 47, loss 1.13223946095\n",
      "epoch 48, loss 1.13102686405\n",
      "epoch 49, loss 1.12981712818\n",
      "epoch 50, loss 1.12860763073\n",
      "epoch 51, loss 1.12740015984\n",
      "epoch 52, loss 1.12619328499\n",
      "epoch 53, loss 1.12498831749\n",
      "epoch 54, loss 1.12378358841\n",
      "epoch 55, loss 1.12258088589\n",
      "epoch 56, loss 1.12137913704\n",
      "epoch 57, loss 1.12017941475\n",
      "epoch 58, loss 1.11898028851\n",
      "epoch 59, loss 1.11778283119\n",
      "epoch 60, loss 1.11658644676\n",
      "epoch 61, loss 1.11539149284\n",
      "epoch 62, loss 1.11419713497\n",
      "epoch 63, loss 1.11300492287\n",
      "epoch 64, loss 1.11181366444\n",
      "epoch 65, loss 1.11062431335\n",
      "epoch 66, loss 1.10943520069\n",
      "epoch 67, loss 1.10824799538\n",
      "epoch 68, loss 1.10706198215\n",
      "epoch 69, loss 1.10587668419\n",
      "epoch 70, loss 1.10469269753\n",
      "epoch 71, loss 1.10351061821\n",
      "epoch 72, loss 1.10232949257\n",
      "epoch 73, loss 1.10114979744\n",
      "epoch 74, loss 1.09997189045\n",
      "epoch 75, loss 1.09879422188\n",
      "epoch 76, loss 1.09761846066\n",
      "epoch 77, loss 1.09644293785\n",
      "epoch 78, loss 1.09526956081\n",
      "epoch 79, loss 1.09409844875\n",
      "epoch 80, loss 1.09292626381\n",
      "epoch 81, loss 1.09175646305\n",
      "epoch 82, loss 1.09058868885\n",
      "epoch 83, loss 1.0894215107\n",
      "epoch 84, loss 1.08825469017\n",
      "epoch 85, loss 1.08709037304\n",
      "epoch 86, loss 1.085927248\n",
      "epoch 87, loss 1.0847645998\n",
      "epoch 88, loss 1.08360350132\n",
      "epoch 89, loss 1.08244431019\n",
      "epoch 90, loss 1.08128559589\n",
      "epoch 91, loss 1.08012807369\n",
      "epoch 92, loss 1.07897210121\n",
      "epoch 93, loss 1.07781684399\n",
      "epoch 94, loss 1.07666349411\n",
      "epoch 95, loss 1.07551205158\n",
      "epoch 96, loss 1.07435965538\n",
      "epoch 97, loss 1.0732101202\n",
      "epoch 98, loss 1.07206165791\n",
      "epoch 99, loss 1.07091379166\n",
      "epoch 100, loss 1.06976830959\n",
      "epoch 101, loss 1.06862294674\n",
      "epoch 102, loss 1.06747913361\n",
      "epoch 103, loss 1.06633603573\n",
      "epoch 104, loss 1.0651961565\n",
      "epoch 105, loss 1.06405568123\n",
      "epoch 106, loss 1.06291675568\n",
      "epoch 107, loss 1.06177866459\n",
      "epoch 108, loss 1.06064271927\n",
      "epoch 109, loss 1.05950784683\n",
      "epoch 110, loss 1.05837345123\n",
      "epoch 111, loss 1.05724036694\n",
      "epoch 112, loss 1.05610907078\n",
      "epoch 113, loss 1.0549788475\n",
      "epoch 114, loss 1.05385005474\n",
      "epoch 115, loss 1.05272185802\n",
      "epoch 116, loss 1.05159509182\n",
      "epoch 117, loss 1.0504693985\n",
      "epoch 118, loss 1.04934501648\n",
      "epoch 119, loss 1.04822170734\n",
      "epoch 120, loss 1.04710018635\n",
      "epoch 121, loss 1.04597961903\n",
      "epoch 122, loss 1.04486060143\n",
      "epoch 123, loss 1.04374194145\n",
      "epoch 124, loss 1.04262447357\n",
      "epoch 125, loss 1.04150927067\n",
      "epoch 126, loss 1.04039406776\n",
      "epoch 127, loss 1.03928053379\n",
      "epoch 128, loss 1.03816819191\n",
      "epoch 129, loss 1.03705775738\n",
      "epoch 130, loss 1.03594756126\n",
      "epoch 131, loss 1.03483831882\n",
      "epoch 132, loss 1.03373169899\n",
      "epoch 133, loss 1.03262424469\n",
      "epoch 134, loss 1.03151917458\n",
      "epoch 135, loss 1.03041529655\n",
      "epoch 136, loss 1.02931237221\n",
      "epoch 137, loss 1.02821099758\n",
      "epoch 138, loss 1.02711033821\n",
      "epoch 139, loss 1.02601122856\n",
      "epoch 140, loss 1.02491283417\n",
      "epoch 141, loss 1.02381563187\n",
      "epoch 142, loss 1.02271962166\n",
      "epoch 143, loss 1.0216255188\n",
      "epoch 144, loss 1.02053201199\n",
      "epoch 145, loss 1.01943993568\n",
      "epoch 146, loss 1.01834869385\n",
      "epoch 147, loss 1.01725888252\n",
      "epoch 148, loss 1.01616990566\n",
      "epoch 149, loss 1.0150822401\n",
      "epoch 150, loss 1.01399600506\n",
      "epoch 151, loss 1.01291131973\n",
      "epoch 152, loss 1.01182675362\n",
      "epoch 153, loss 1.01074433327\n",
      "epoch 154, loss 1.00966215134\n",
      "epoch 155, loss 1.00858151913\n",
      "epoch 156, loss 1.00750219822\n",
      "epoch 157, loss 1.0064227581\n",
      "epoch 158, loss 1.00534558296\n",
      "epoch 159, loss 1.00427126884\n",
      "epoch 160, loss 1.00319552422\n",
      "epoch 161, loss 1.00212168694\n",
      "epoch 162, loss 1.00104928017\n",
      "epoch 163, loss 0.99997740984\n",
      "epoch 164, loss 0.998907446861\n",
      "epoch 165, loss 0.997838199139\n",
      "epoch 166, loss 0.996771931648\n",
      "epoch 167, loss 0.995703995228\n",
      "epoch 168, loss 0.994637966156\n",
      "epoch 169, loss 0.993573665619\n",
      "epoch 170, loss 0.992510199547\n",
      "epoch 171, loss 0.991447746754\n",
      "epoch 172, loss 0.990386784077\n",
      "epoch 173, loss 0.989326655865\n",
      "epoch 174, loss 0.988267123699\n",
      "epoch 175, loss 0.987210392952\n",
      "epoch 176, loss 0.986153483391\n",
      "epoch 177, loss 0.985097527504\n",
      "epoch 178, loss 0.984043121338\n",
      "epoch 179, loss 0.982990145683\n",
      "epoch 180, loss 0.981939017773\n",
      "epoch 181, loss 0.980888009071\n",
      "epoch 182, loss 0.979837536812\n",
      "epoch 183, loss 0.978789806366\n",
      "epoch 184, loss 0.977740943432\n",
      "epoch 185, loss 0.976695179939\n",
      "epoch 186, loss 0.975649952888\n",
      "epoch 187, loss 0.974604964256\n",
      "epoch 188, loss 0.973562121391\n",
      "epoch 189, loss 0.972519397736\n",
      "epoch 190, loss 0.971478819847\n",
      "epoch 191, loss 0.9704387784\n",
      "epoch 192, loss 0.969401478767\n",
      "epoch 193, loss 0.968362212181\n",
      "epoch 194, loss 0.967327296734\n",
      "epoch 195, loss 0.966291606426\n",
      "epoch 196, loss 0.965257465839\n",
      "epoch 197, loss 0.964224636555\n",
      "epoch 198, loss 0.963192462921\n",
      "epoch 199, loss 0.962162315845\n",
      "epoch 200, loss 0.961131751537\n",
      "epoch 201, loss 0.960103809834\n",
      "epoch 202, loss 0.959075450897\n",
      "epoch 203, loss 0.958049118519\n",
      "epoch 204, loss 0.957024395466\n",
      "epoch 205, loss 0.95599925518\n",
      "epoch 206, loss 0.954976439476\n",
      "epoch 207, loss 0.953954398632\n",
      "epoch 208, loss 0.952932834625\n",
      "epoch 209, loss 0.951912999153\n",
      "epoch 210, loss 0.95089495182\n",
      "epoch 211, loss 0.949876189232\n",
      "epoch 212, loss 0.948859095573\n",
      "epoch 213, loss 0.947844982147\n",
      "epoch 214, loss 0.946830153465\n",
      "epoch 215, loss 0.945816338062\n",
      "epoch 216, loss 0.944804489613\n",
      "epoch 217, loss 0.943793416023\n",
      "epoch 218, loss 0.942782759666\n",
      "epoch 219, loss 0.941774070263\n",
      "epoch 220, loss 0.940765857697\n",
      "epoch 221, loss 0.939758956432\n",
      "epoch 222, loss 0.938753008842\n",
      "epoch 223, loss 0.937748432159\n",
      "epoch 224, loss 0.936745524406\n",
      "epoch 225, loss 0.935741782188\n",
      "epoch 226, loss 0.934740841389\n",
      "epoch 227, loss 0.933740496635\n",
      "epoch 228, loss 0.932740986347\n",
      "epoch 229, loss 0.931742370129\n",
      "epoch 230, loss 0.930745720863\n",
      "epoch 231, loss 0.92974960804\n",
      "epoch 232, loss 0.928754210472\n",
      "epoch 233, loss 0.927759647369\n",
      "epoch 234, loss 0.926767170429\n",
      "epoch 235, loss 0.925775527954\n",
      "epoch 236, loss 0.924784362316\n",
      "epoch 237, loss 0.923794746399\n",
      "epoch 238, loss 0.922805786133\n",
      "epoch 239, loss 0.921818375587\n",
      "epoch 240, loss 0.920831859112\n",
      "epoch 241, loss 0.919846057892\n",
      "epoch 242, loss 0.918861567974\n",
      "epoch 243, loss 0.917877852917\n",
      "epoch 244, loss 0.91689568758\n",
      "epoch 245, loss 0.915914237499\n",
      "epoch 246, loss 0.914934277534\n",
      "epoch 247, loss 0.913955032825\n",
      "epoch 248, loss 0.912976861\n",
      "epoch 249, loss 0.91199952364\n",
      "epoch 250, loss 0.911023259163\n",
      "epoch 251, loss 0.910047829151\n",
      "epoch 252, loss 0.909074306488\n",
      "epoch 253, loss 0.908101379871\n",
      "epoch 254, loss 0.907129406929\n",
      "epoch 255, loss 0.906159043312\n",
      "epoch 256, loss 0.905188858509\n",
      "epoch 257, loss 0.904220223427\n",
      "epoch 258, loss 0.903252482414\n",
      "epoch 259, loss 0.902285277843\n",
      "epoch 260, loss 0.901319384575\n",
      "epoch 261, loss 0.900355517864\n",
      "epoch 262, loss 0.899390697479\n",
      "epoch 263, loss 0.898429691792\n",
      "epoch 264, loss 0.897467255592\n",
      "epoch 265, loss 0.896506667137\n",
      "epoch 266, loss 0.895547032356\n",
      "epoch 267, loss 0.89458835125\n",
      "epoch 268, loss 0.893631160259\n",
      "epoch 269, loss 0.892674803734\n",
      "epoch 270, loss 0.891718745232\n",
      "epoch 271, loss 0.890764534473\n",
      "epoch 272, loss 0.889811813831\n",
      "epoch 273, loss 0.888859570026\n",
      "epoch 274, loss 0.887908160686\n",
      "epoch 275, loss 0.886957943439\n",
      "epoch 276, loss 0.886007785797\n",
      "epoch 277, loss 0.885059535503\n",
      "epoch 278, loss 0.884112656116\n",
      "epoch 279, loss 0.883166611195\n",
      "epoch 280, loss 0.882221400738\n",
      "epoch 281, loss 0.881277084351\n",
      "epoch 282, loss 0.880333602428\n",
      "epoch 283, loss 0.879391491413\n",
      "epoch 284, loss 0.8784506917\n",
      "epoch 285, loss 0.877509474754\n",
      "epoch 286, loss 0.876570820808\n",
      "epoch 287, loss 0.875633537769\n",
      "epoch 288, loss 0.874695897102\n",
      "epoch 289, loss 0.873760223389\n",
      "epoch 290, loss 0.87282449007\n",
      "epoch 291, loss 0.871890425682\n",
      "epoch 292, loss 0.870957255363\n",
      "epoch 293, loss 0.870025336742\n",
      "epoch 294, loss 0.869093596935\n",
      "epoch 295, loss 0.868164181709\n",
      "epoch 296, loss 0.867234230042\n",
      "epoch 297, loss 0.866306006908\n",
      "epoch 298, loss 0.865379035473\n",
      "epoch 299, loss 0.864453196526\n",
      "epoch 300, loss 0.863526701927\n",
      "epoch 301, loss 0.862603843212\n",
      "epoch 302, loss 0.861680030823\n",
      "epoch 303, loss 0.860757827759\n",
      "epoch 304, loss 0.85983645916\n",
      "epoch 305, loss 0.858916163445\n",
      "epoch 306, loss 0.857997298241\n",
      "epoch 307, loss 0.85707873106\n",
      "epoch 308, loss 0.856161415577\n",
      "epoch 309, loss 0.855246067047\n",
      "epoch 310, loss 0.854329943657\n",
      "epoch 311, loss 0.853415310383\n",
      "epoch 312, loss 0.852502346039\n",
      "epoch 313, loss 0.851590156555\n",
      "epoch 314, loss 0.850677967072\n",
      "epoch 315, loss 0.849767506123\n",
      "epoch 316, loss 0.848858356476\n",
      "epoch 317, loss 0.847949504852\n",
      "epoch 318, loss 0.84704208374\n",
      "epoch 319, loss 0.846135795116\n",
      "epoch 320, loss 0.845229744911\n",
      "epoch 321, loss 0.844325423241\n",
      "epoch 322, loss 0.843421339989\n",
      "epoch 323, loss 0.842518806458\n",
      "epoch 324, loss 0.841616034508\n",
      "epoch 325, loss 0.840716183186\n",
      "epoch 326, loss 0.839816212654\n",
      "epoch 327, loss 0.838917732239\n",
      "epoch 328, loss 0.838019549847\n",
      "epoch 329, loss 0.837123036385\n",
      "epoch 330, loss 0.836227238178\n",
      "epoch 331, loss 0.835331439972\n",
      "epoch 332, loss 0.834438204765\n",
      "epoch 333, loss 0.833545207977\n",
      "epoch 334, loss 0.832652568817\n",
      "epoch 335, loss 0.831760764122\n",
      "epoch 336, loss 0.830871462822\n",
      "epoch 337, loss 0.829982161522\n",
      "epoch 338, loss 0.829094231129\n",
      "epoch 339, loss 0.828205943108\n",
      "epoch 340, loss 0.827320098877\n",
      "epoch 341, loss 0.826433956623\n",
      "epoch 342, loss 0.825549960136\n",
      "epoch 343, loss 0.824666500092\n",
      "epoch 344, loss 0.823783993721\n",
      "epoch 345, loss 0.822902083397\n",
      "epoch 346, loss 0.822021186352\n",
      "epoch 347, loss 0.821141421795\n",
      "epoch 348, loss 0.820262610912\n",
      "epoch 349, loss 0.819384694099\n",
      "epoch 350, loss 0.818507790565\n",
      "epoch 351, loss 0.817631900311\n",
      "epoch 352, loss 0.816756844521\n",
      "epoch 353, loss 0.815882503986\n",
      "epoch 354, loss 0.815009713173\n",
      "epoch 355, loss 0.814137279987\n",
      "epoch 356, loss 0.813265919685\n",
      "epoch 357, loss 0.812395095825\n",
      "epoch 358, loss 0.811525523663\n",
      "epoch 359, loss 0.810657143593\n",
      "epoch 360, loss 0.809789180756\n",
      "epoch 361, loss 0.808922946453\n",
      "epoch 362, loss 0.808056950569\n",
      "epoch 363, loss 0.807192504406\n",
      "epoch 364, loss 0.806328296661\n",
      "epoch 365, loss 0.805464625359\n",
      "epoch 366, loss 0.804603278637\n",
      "epoch 367, loss 0.803742587566\n",
      "epoch 368, loss 0.802882015705\n",
      "epoch 369, loss 0.802022814751\n",
      "epoch 370, loss 0.801163971424\n",
      "epoch 371, loss 0.800305664539\n",
      "epoch 372, loss 0.799450039864\n",
      "epoch 373, loss 0.798594295979\n",
      "epoch 374, loss 0.797739744186\n",
      "epoch 375, loss 0.796885728836\n",
      "epoch 376, loss 0.796033501625\n",
      "epoch 377, loss 0.7951810956\n",
      "epoch 378, loss 0.794329583645\n",
      "epoch 379, loss 0.79347962141\n",
      "epoch 380, loss 0.792630374432\n",
      "epoch 381, loss 0.79178249836\n",
      "epoch 382, loss 0.790934920311\n",
      "epoch 383, loss 0.790088713169\n",
      "epoch 384, loss 0.789242625237\n",
      "epoch 385, loss 0.788398146629\n",
      "epoch 386, loss 0.78755402565\n",
      "epoch 387, loss 0.786711573601\n",
      "epoch 388, loss 0.785869300365\n",
      "epoch 389, loss 0.785028576851\n",
      "epoch 390, loss 0.78418803215\n",
      "epoch 391, loss 0.783348798752\n",
      "epoch 392, loss 0.782510399818\n",
      "epoch 393, loss 0.781673669815\n",
      "epoch 394, loss 0.780836701393\n",
      "epoch 395, loss 0.780000209808\n",
      "epoch 396, loss 0.779165744781\n",
      "epoch 397, loss 0.778331875801\n",
      "epoch 398, loss 0.77749890089\n",
      "epoch 399, loss 0.776666760445\n",
      "epoch 400, loss 0.775835394859\n",
      "epoch 401, loss 0.775004982948\n",
      "epoch 402, loss 0.77417576313\n",
      "epoch 403, loss 0.773346424103\n",
      "epoch 404, loss 0.772519230843\n",
      "epoch 405, loss 0.771692216396\n",
      "epoch 406, loss 0.770866215229\n",
      "epoch 407, loss 0.770041763783\n",
      "epoch 408, loss 0.769217371941\n",
      "epoch 409, loss 0.768394172192\n",
      "epoch 410, loss 0.767570853233\n",
      "epoch 411, loss 0.766750276089\n",
      "epoch 412, loss 0.765929281712\n",
      "epoch 413, loss 0.765109777451\n",
      "epoch 414, loss 0.764290452003\n",
      "epoch 415, loss 0.763472735882\n",
      "epoch 416, loss 0.762655556202\n",
      "epoch 417, loss 0.761839568615\n",
      "epoch 418, loss 0.761023163795\n",
      "epoch 419, loss 0.760208964348\n",
      "epoch 420, loss 0.759395718575\n",
      "epoch 421, loss 0.758583366871\n",
      "epoch 422, loss 0.757771253586\n",
      "epoch 423, loss 0.756960272789\n",
      "epoch 424, loss 0.756150126457\n",
      "epoch 425, loss 0.755340695381\n",
      "epoch 426, loss 0.754532814026\n",
      "epoch 427, loss 0.753725349903\n",
      "epoch 428, loss 0.752918124199\n",
      "epoch 429, loss 0.752112329006\n",
      "epoch 430, loss 0.751306772232\n",
      "epoch 431, loss 0.750502943993\n",
      "epoch 432, loss 0.749699950218\n",
      "epoch 433, loss 0.748897194862\n",
      "epoch 434, loss 0.748095393181\n",
      "epoch 435, loss 0.747294843197\n",
      "epoch 436, loss 0.746495068073\n",
      "epoch 437, loss 0.745696365833\n",
      "epoch 438, loss 0.744898676872\n",
      "epoch 439, loss 0.744100928307\n",
      "epoch 440, loss 0.74330496788\n",
      "epoch 441, loss 0.742509245872\n",
      "epoch 442, loss 0.741714060307\n",
      "epoch 443, loss 0.740920722485\n",
      "epoch 444, loss 0.740127801895\n",
      "epoch 445, loss 0.739335119724\n",
      "epoch 446, loss 0.738543987274\n",
      "epoch 447, loss 0.737753987312\n",
      "epoch 448, loss 0.73696398735\n",
      "epoch 449, loss 0.736175179482\n",
      "epoch 450, loss 0.735387027264\n",
      "epoch 451, loss 0.734600186348\n",
      "epoch 452, loss 0.73381459713\n",
      "epoch 453, loss 0.733029007912\n",
      "epoch 454, loss 0.732244610786\n",
      "epoch 455, loss 0.731460571289\n",
      "epoch 456, loss 0.73067766428\n",
      "epoch 457, loss 0.729895353317\n",
      "epoch 458, loss 0.729114890099\n",
      "epoch 459, loss 0.728334486485\n",
      "epoch 460, loss 0.727554738522\n",
      "epoch 461, loss 0.72677564621\n",
      "epoch 462, loss 0.725997924805\n",
      "epoch 463, loss 0.725220680237\n",
      "epoch 464, loss 0.72444498539\n",
      "epoch 465, loss 0.723669946194\n",
      "epoch 466, loss 0.722895383835\n",
      "epoch 467, loss 0.722121119499\n",
      "epoch 468, loss 0.72134822607\n",
      "epoch 469, loss 0.720576047897\n",
      "epoch 470, loss 0.719805121422\n",
      "epoch 471, loss 0.719034731388\n",
      "epoch 472, loss 0.718264997005\n",
      "epoch 473, loss 0.717495799065\n",
      "epoch 474, loss 0.716728031635\n",
      "epoch 475, loss 0.715961396694\n",
      "epoch 476, loss 0.715195059776\n",
      "epoch 477, loss 0.714429616928\n",
      "epoch 478, loss 0.713664770126\n",
      "epoch 479, loss 0.712901413441\n",
      "epoch 480, loss 0.712138295174\n",
      "epoch 481, loss 0.711375832558\n",
      "epoch 482, loss 0.710614562035\n",
      "epoch 483, loss 0.709854722023\n",
      "epoch 484, loss 0.709094166756\n",
      "epoch 485, loss 0.708335280418\n",
      "epoch 486, loss 0.707577288151\n",
      "epoch 487, loss 0.706820130348\n",
      "epoch 488, loss 0.706063747406\n",
      "epoch 489, loss 0.705307602882\n",
      "epoch 490, loss 0.704552829266\n",
      "epoch 491, loss 0.703798532486\n",
      "epoch 492, loss 0.703045547009\n",
      "epoch 493, loss 0.702292978764\n",
      "epoch 494, loss 0.701541304588\n",
      "epoch 495, loss 0.700790584087\n",
      "epoch 496, loss 0.700040221214\n",
      "epoch 497, loss 0.699291229248\n",
      "epoch 498, loss 0.698542535305\n",
      "epoch 499, loss 0.697794914246\n",
      "epoch 500, loss 0.697048068047\n"
     ]
    }
   ],
   "source": [
    "epochs = 500\n",
    "\n",
    "for epoch in range(epochs):\n",
    "    epoch += 1\n",
    "    #Convert inputs and outputs to torch variable\n",
    "    inputs = Variable(torch.from_numpy(x_train))\n",
    "    \n",
    "    real_outputs = Variable(torch.from_numpy(y_train))\n",
    "    \n",
    "    # Reset Gradients\n",
    "    optimizer.zero_grad()\n",
    "    \n",
    "    # Forward - compute the output\n",
    "    pred_outputs = model(inputs)\n",
    "    \n",
    "    # Loss\n",
    "    loss = loss_function(pred_outputs, real_outputs)\n",
    "    \n",
    "    # Backword - compute gradients\n",
    "    loss.backward()\n",
    "    \n",
    "    # Update parameters\n",
    "    optimizer.step()\n",
    "    \n",
    "    print('epoch {}, loss {}'.format(epoch, loss.data[0]))"
   ]
  },
  {
   "cell_type": "code",
   "execution_count": 95,
   "metadata": {
    "collapsed": true,
    "deletable": true,
    "editable": true
   },
   "outputs": [],
   "source": []
  },
  {
   "cell_type": "code",
   "execution_count": null,
   "metadata": {
    "collapsed": true,
    "deletable": true,
    "editable": true
   },
   "outputs": [],
   "source": []
  },
  {
   "cell_type": "code",
   "execution_count": null,
   "metadata": {
    "collapsed": true,
    "deletable": true,
    "editable": true
   },
   "outputs": [],
   "source": []
  }
 ],
 "metadata": {
  "celltoolbar": "Raw Cell Format",
  "kernelspec": {
   "display_name": "Python2.7",
   "language": "python",
   "name": "py2localspark"
  }
 },
 "nbformat": 4,
 "nbformat_minor": 1
}
