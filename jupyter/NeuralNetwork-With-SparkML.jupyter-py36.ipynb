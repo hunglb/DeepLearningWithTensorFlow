{
 "cells": [
  {
   "cell_type": "markdown",
   "metadata": {},
   "source": [
    "# Assignment 4\n",
    "## Understaning scaling of linear algebra operations on Apache Spark using Apache SystemML\n",
    "\n",
    "In this assignment we want you to understand how to scale linear algebra operations from a single machine to multiple machines, memory and CPU cores using Apache SystemML. Therefore we want you to understand how to migrate from a numpy program to a SystemML DML program. Don't worry. We will give you a lot of hints. Finally, you won't need this knowledge anyways if you are sticking to Keras only, but once you go beyond that point you'll be happy to see what's going on behind the scenes. Please make sure you run this notebook from an Apache Spark 2.3 notebook.\n",
    "\n",
    "So the first thing we need to ensure is that we are on the latest version of SystemML, which is 1.2.0:"
   ]
  },
  {
   "cell_type": "code",
   "execution_count": 1,
   "metadata": {},
   "outputs": [
    {
     "name": "stdout",
     "output_type": "stream",
     "text": [
      "Requirement already satisfied: systemml in /opt/conda3/lib/python3.6/site-packages (1.2.0)\r\n",
      "Requirement already satisfied: Pillow>=2.0.0 in /opt/conda3/lib/python3.6/site-packages (from systemml) (6.0.0)\r\n",
      "Requirement already satisfied: numpy>=1.8.2 in /opt/conda3/lib/python3.6/site-packages (from systemml) (1.16.3)\r\n",
      "Requirement already satisfied: pandas in /opt/conda3/lib/python3.6/site-packages (from systemml) (0.24.2)\r\n",
      "Requirement already satisfied: scikit-learn in /opt/conda3/lib/python3.6/site-packages (from systemml) (0.20.3)\r\n",
      "Requirement already satisfied: scipy>=0.15.1 in /opt/conda3/lib/python3.6/site-packages (from systemml) (1.2.1)\r\n",
      "Requirement already satisfied: python-dateutil>=2.5.0 in /opt/conda3/lib/python3.6/site-packages (from pandas->systemml) (2.8.0)\r\n",
      "Requirement already satisfied: pytz>=2011k in /opt/conda3/lib/python3.6/site-packages (from pandas->systemml) (2019.1)\r\n",
      "Requirement already satisfied: six>=1.5 in /opt/conda3/lib/python3.6/site-packages (from python-dateutil>=2.5.0->pandas->systemml) (1.12.0)\r\n"
     ]
    }
   ],
   "source": [
    "!pip install systemml"
   ]
  },
  {
   "cell_type": "markdown",
   "metadata": {},
   "source": [
    "Now we need to create two sym links that the newest version is picket up - this is a workaround and will be removed soon"
   ]
  },
  {
   "cell_type": "code",
   "execution_count": 2,
   "metadata": {},
   "outputs": [
    {
     "name": "stdout",
     "output_type": "stream",
     "text": [
      "ln: failed to create symbolic link ‘/user-home/1042/user-libs/spark2/systemml-1.2.0-extra.jar’: No such file or directory\n",
      "ln: failed to create symbolic link ‘/user-home/1042/user-libs/spark2/systemml-1.2.0.jar’: No such file or directory\n"
     ]
    }
   ],
   "source": [
    "!ln -s -f ~/user-libs/python3/systemml/systemml-java/systemml-1.2.0-extra.jar ~/user-libs/spark2/systemml-1.2.0-extra.jar\n",
    "!ln -s -f ~/user-libs/python3/systemml/systemml-java/systemml-1.2.0.jar ~/user-libs/spark2/systemml-1.2.0.jar"
   ]
  },
  {
   "cell_type": "markdown",
   "metadata": {},
   "source": [
    "Now please restart the kernel and make sure the version is correct"
   ]
  },
  {
   "cell_type": "code",
   "execution_count": 3,
   "metadata": {},
   "outputs": [
    {
     "name": "stdout",
     "output_type": "stream",
     "text": [
      "1.2.0\n"
     ]
    }
   ],
   "source": [
    "from systemml import MLContext\n",
    "ml = MLContext(sc)\n",
    "print(ml.version())\n",
    "    \n",
    "if not ml.version() == '1.2.0':\n",
    "    raise ValueError('please upgrade to SystemML 1.2.0, or restart your Kernel (Kernel->Restart & Clear Output)')"
   ]
  },
  {
   "cell_type": "markdown",
   "metadata": {},
   "source": [
    "Congratulations, if you see version 1.2.0, please continue with the notebook..."
   ]
  },
  {
   "cell_type": "code",
   "execution_count": 4,
   "metadata": {},
   "outputs": [],
   "source": [
    "from systemml import MLContext, dml\n",
    "import numpy as np\n",
    "import time"
   ]
  },
  {
   "cell_type": "markdown",
   "metadata": {},
   "source": [
    "Then we create an MLContext to interface with Apache SystemML. Note that we pass a SparkSession object as parameter so SystemML now knows how to talk to the Apache Spark cluster"
   ]
  },
  {
   "cell_type": "code",
   "execution_count": 5,
   "metadata": {},
   "outputs": [],
   "source": [
    "ml = MLContext(sc)"
   ]
  },
  {
   "cell_type": "markdown",
   "metadata": {},
   "source": [
    "Now we create some large random matrices to have numpy and SystemML crunch on it"
   ]
  },
  {
   "cell_type": "code",
   "execution_count": 6,
   "metadata": {},
   "outputs": [],
   "source": [
    "u = np.random.rand(1000,10000)\n",
    "s = np.random.rand(10000,1000)\n",
    "w = np.random.rand(1000,1000)"
   ]
  },
  {
   "cell_type": "markdown",
   "metadata": {},
   "source": [
    "Now we implement a short one-liner to define a very simple linear algebra operation\n",
    "\n",
    "In case you are unfamiliar with matrxi-matrix multiplication: https://en.wikipedia.org/wiki/Matrix_multiplication\n",
    "\n",
    "sum(U' * (W . (U * S)))\n",
    "\n",
    "\n",
    "| Legend        |            |   \n",
    "| ------------- |-------------| \n",
    "| '      | transpose of a matrix | \n",
    "| * | matrix-matrix multiplication      |  \n",
    "| . | scalar multiplication      |   \n",
    "\n"
   ]
  },
  {
   "cell_type": "code",
   "execution_count": 7,
   "metadata": {},
   "outputs": [
    {
     "name": "stdout",
     "output_type": "stream",
     "text": [
      "0.339526891708374\n"
     ]
    }
   ],
   "source": [
    "start = time.time()\n",
    "res = np.sum(u.T.dot(w * u.dot(s)))\n",
    "print (time.time()-start)"
   ]
  },
  {
   "cell_type": "markdown",
   "metadata": {},
   "source": [
    "As you can see this executes perfectly fine. Note that this is even a very efficient execution because numpy uses a C/C++ backend which is known for it's performance. But what happens if U, S or W get such big that the available main memory cannot cope with it? Let's give it a try:"
   ]
  },
  {
   "cell_type": "code",
   "execution_count": 8,
   "metadata": {},
   "outputs": [],
   "source": [
    "#u = np.random.rand(10000,100000)\n",
    "#s = np.random.rand(100000,10000)\n",
    "#w = np.random.rand(10000,10000)"
   ]
  },
  {
   "cell_type": "markdown",
   "metadata": {},
   "source": [
    "After a short while you should see a memory error. This is because the operating system process was not able to allocate enough memory for storing the numpy array on the heap. Now it's time to re-implement the very same operations as DML in SystemML, and this is your task. Just replace all ###your_code_goes_here sections with proper code, please consider the following table which contains all DML syntax you need:\n",
    "\n",
    "| Syntax        |            |   \n",
    "| ------------- |-------------| \n",
    "| t(M)      | transpose of a matrix, where M is the matrix | \n",
    "| %*% | matrix-matrix multiplication      |  \n",
    "| * | scalar multiplication      |   \n",
    "\n",
    "## Task"
   ]
  },
  {
   "cell_type": "markdown",
   "metadata": {},
   "source": [
    "In order to show you the advantage of SystemML over numpy we've blown up the sizes of the matrices. Unfortunately, on a 1-2 worker Spark cluster it takes quite some time to complete. Therefore we've stripped down the example to smaller matrices below, but we've kept the code, just in case you are curious to check it out. But you might want to use some more workers which you easily can configure in the environment settings of the project within Watson Studio. Just be aware that you're currently limited to free 50 capacity unit hours per month wich are consumed by the additional workers."
   ]
  },
  {
   "cell_type": "code",
   "execution_count": 9,
   "metadata": {},
   "outputs": [],
   "source": [
    "script = \"\"\"\n",
    "U = rand(rows=10000,cols=100000)\n",
    "S = rand(rows=100000,cols=10000)\n",
    "W = rand(rows=10000,cols=10000)\n",
    "res = sum(t(U) %*% (W * (U%*%S)))\n",
    "\"\"\""
   ]
  },
  {
   "cell_type": "markdown",
   "metadata": {},
   "source": [
    "To get consistent results we switch from a random matrix initialization to something deterministic"
   ]
  },
  {
   "cell_type": "code",
   "execution_count": 18,
   "metadata": {},
   "outputs": [
    {
     "name": "stdout",
     "output_type": "stream",
     "text": [
      "[Stage 9:>                                                         (1 + 1) / 59]\n",
      "[Stage 9:=>                                                        (2 + 1) / 59]\n",
      "[Stage 9:==>                                                       (3 + 1) / 59]\n",
      "[Stage 9:===>                                                      (4 + 1) / 59]\n",
      "[Stage 9:=====>                                                    (6 + 1) / 59]\n",
      "[Stage 9:======>                                                   (7 + 1) / 59]\n",
      "[Stage 9:=======>                                                  (8 + 1) / 59]\n",
      "[Stage 9:========>                                                 (9 + 1) / 59]\n",
      "[Stage 9:==========>                                              (11 + 1) / 59]\n",
      "[Stage 9:===========>                                             (12 + 1) / 59]\n",
      "[Stage 9:============>                                            (13 + 1) / 59]\n",
      "[Stage 9:=============>                                           (14 + 1) / 59]\n",
      "[Stage 9:===============>                                         (16 + 1) / 59]\n",
      "[Stage 9:================>                                        (17 + 1) / 59]\n",
      "[Stage 9:=================>                                       (18 + 1) / 59]\n",
      "[Stage 9:==================>                                      (19 + 1) / 59]\n",
      "[Stage 9:====================>                                    (21 + 1) / 59]\n",
      "[Stage 9:=====================>                                   (22 + 1) / 59]\n",
      "[Stage 9:======================>                                  (23 + 1) / 59]\n",
      "[Stage 9:========================>                                (25 + 1) / 59]\n",
      "[Stage 9:=========================>                               (26 + 1) / 59]\n",
      "[Stage 9:==========================>                              (27 + 1) / 59]\n",
      "[Stage 9:===========================>                             (28 + 1) / 59]\n",
      "[Stage 9:============================>                            (30 + 1) / 59]\n",
      "[Stage 9:=============================>                           (31 + 1) / 59]\n",
      "[Stage 9:==============================>                          (32 + 1) / 59]\n",
      "[Stage 9:===============================>                         (33 + 1) / 59]\n",
      "[Stage 9:================================>                        (34 + 1) / 59]\n",
      "[Stage 9:==================================>                      (36 + 1) / 59]\n",
      "[Stage 9:===================================>                     (37 + 1) / 59]\n",
      "[Stage 9:====================================>                    (38 + 1) / 59]\n",
      "[Stage 9:======================================>                  (40 + 1) / 59]\n",
      "[Stage 9:=======================================>                 (41 + 1) / 59]\n",
      "[Stage 9:========================================>                (42 + 1) / 59]\n",
      "[Stage 9:=========================================>               (43 + 1) / 59]\n",
      "[Stage 9:==========================================>              (44 + 2) / 59]\n",
      "[Stage 9:============================================>            (46 + 1) / 59]\n",
      "[Stage 9:=============================================>           (47 + 1) / 59]\n",
      "[Stage 9:==============================================>          (48 + 1) / 59]\n",
      "[Stage 9:================================================>        (50 + 1) / 59]\n",
      "[Stage 9:=================================================>       (51 + 1) / 59]\n",
      "[Stage 9:==================================================>      (52 + 1) / 59]\n",
      "[Stage 9:===================================================>     (53 + 1) / 59]\n",
      "[Stage 9:=====================================================>   (55 + 1) / 59]\n",
      "[Stage 9:======================================================>  (56 + 1) / 59]\n",
      "[Stage 9:=======================================================> (57 + 1) / 59]\n",
      "[Stage 9:========================================================>(58 + 1) / 59]\n",
      "[Stage 11:>  (0 + 1) / 59][Stage 12:>  (0 + 0) / 59][Stage 14:>   (0 + 0) / 5]  \n",
      "[Stage 11:>  (1 + 1) / 59][Stage 12:>  (0 + 0) / 59][Stage 14:>   (0 + 0) / 5]\n",
      "[Stage 11:>  (2 + 1) / 59][Stage 12:>  (0 + 0) / 59][Stage 14:>   (0 + 0) / 5]\n",
      "[Stage 11:>  (3 + 1) / 59][Stage 12:>  (0 + 0) / 59][Stage 14:>   (0 + 0) / 5]\n",
      "[Stage 11:>  (4 + 1) / 59][Stage 12:>  (0 + 0) / 59][Stage 14:>   (0 + 0) / 5]\n",
      "[Stage 11:>  (5 + 1) / 59][Stage 12:>  (0 + 0) / 59][Stage 14:>   (0 + 0) / 5]\n",
      "[Stage 11:>  (6 + 1) / 59][Stage 12:>  (0 + 0) / 59][Stage 14:>   (0 + 0) / 5]\n",
      "[Stage 11:>  (7 + 1) / 59][Stage 12:>  (0 + 0) / 59][Stage 14:>   (0 + 0) / 5]\n",
      "[Stage 11:>  (8 + 1) / 59][Stage 12:>  (0 + 0) / 59][Stage 14:>   (0 + 0) / 5]\n",
      "[Stage 11:>  (9 + 1) / 59][Stage 12:>  (0 + 0) / 59][Stage 14:>   (0 + 0) / 5]\n",
      "[Stage 11:> (10 + 1) / 59][Stage 12:>  (0 + 0) / 59][Stage 14:>   (0 + 0) / 5]\n",
      "[Stage 11:> (11 + 1) / 59][Stage 12:>  (0 + 0) / 59][Stage 14:>   (0 + 0) / 5]\n",
      "[Stage 11:> (12 + 1) / 59][Stage 12:>  (0 + 0) / 59][Stage 14:>   (0 + 0) / 5]\n",
      "[Stage 11:> (13 + 1) / 59][Stage 12:>  (0 + 0) / 59][Stage 14:>   (0 + 0) / 5]\n",
      "[Stage 11:> (14 + 1) / 59][Stage 12:>  (0 + 0) / 59][Stage 14:>   (0 + 0) / 5]\n",
      "[Stage 11:> (15 + 1) / 59][Stage 12:>  (0 + 0) / 59][Stage 14:>   (0 + 0) / 5]\n",
      "[Stage 11:> (16 + 1) / 59][Stage 12:>  (0 + 0) / 59][Stage 14:>   (0 + 0) / 5]\n",
      "[Stage 11:> (17 + 1) / 59][Stage 12:>  (0 + 0) / 59][Stage 14:>   (0 + 0) / 5]\n",
      "[Stage 11:> (18 + 1) / 59][Stage 12:>  (0 + 0) / 59][Stage 14:>   (0 + 0) / 5]\n",
      "[Stage 11:> (19 + 1) / 59][Stage 12:>  (0 + 0) / 59][Stage 14:>   (0 + 0) / 5]\n",
      "[Stage 11:> (20 + 1) / 59][Stage 12:>  (0 + 0) / 59][Stage 14:>   (0 + 0) / 5]\n",
      "[Stage 11:> (21 + 1) / 59][Stage 12:>  (0 + 0) / 59][Stage 14:>   (0 + 0) / 5]\n",
      "[Stage 11:> (22 + 1) / 59][Stage 12:>  (0 + 0) / 59][Stage 14:>   (0 + 0) / 5]\n",
      "[Stage 11:> (23 + 1) / 59][Stage 12:>  (0 + 0) / 59][Stage 14:>   (0 + 0) / 5]\n",
      "[Stage 11:> (24 + 1) / 59][Stage 12:>  (0 + 0) / 59][Stage 14:>   (0 + 0) / 5]\n",
      "[Stage 11:> (25 + 1) / 59][Stage 12:>  (0 + 0) / 59][Stage 14:>   (0 + 0) / 5]\n",
      "[Stage 11:> (26 + 1) / 59][Stage 12:>  (0 + 0) / 59][Stage 14:>   (0 + 0) / 5]\n",
      "[Stage 11:> (27 + 1) / 59][Stage 12:>  (0 + 0) / 59][Stage 14:>   (0 + 0) / 5]\n",
      "[Stage 11:> (28 + 1) / 59][Stage 12:>  (0 + 0) / 59][Stage 14:>   (0 + 0) / 5]\n",
      "[Stage 11:> (29 + 1) / 59][Stage 12:>  (0 + 0) / 59][Stage 14:>   (0 + 0) / 5]\n",
      "[Stage 11:=>(30 + 1) / 59][Stage 12:>  (0 + 0) / 59][Stage 14:>   (0 + 0) / 5]\n",
      "[Stage 11:=>(31 + 1) / 59][Stage 12:>  (0 + 0) / 59][Stage 14:>   (0 + 0) / 5]\n",
      "[Stage 11:=>(32 + 1) / 59][Stage 12:>  (0 + 0) / 59][Stage 14:>   (0 + 0) / 5]\n",
      "[Stage 11:=>(33 + 1) / 59][Stage 12:>  (0 + 0) / 59][Stage 14:>   (0 + 0) / 5]\n",
      "[Stage 11:=>(34 + 1) / 59][Stage 12:>  (0 + 0) / 59][Stage 14:>   (0 + 0) / 5]\n",
      "[Stage 11:=>(35 + 1) / 59][Stage 12:>  (0 + 0) / 59][Stage 14:>   (0 + 0) / 5]\n",
      "[Stage 11:=>(36 + 1) / 59][Stage 12:>  (0 + 0) / 59][Stage 14:>   (0 + 0) / 5]\n",
      "[Stage 11:=>(37 + 1) / 59][Stage 12:>  (0 + 0) / 59][Stage 14:>   (0 + 0) / 5]\n",
      "[Stage 11:=>(38 + 1) / 59][Stage 12:>  (0 + 0) / 59][Stage 14:>   (0 + 0) / 5]\n",
      "[Stage 11:=>(39 + 1) / 59][Stage 12:>  (0 + 0) / 59][Stage 14:>   (0 + 0) / 5]\n",
      "[Stage 11:=>(40 + 1) / 59][Stage 12:>  (0 + 0) / 59][Stage 14:>   (0 + 0) / 5]\n",
      "[Stage 11:=>(41 + 1) / 59][Stage 12:>  (0 + 0) / 59][Stage 14:>   (0 + 0) / 5]\n",
      "[Stage 11:=>(42 + 1) / 59][Stage 12:>  (0 + 0) / 59][Stage 14:>   (0 + 0) / 5]\n",
      "[Stage 11:=>(43 + 1) / 59][Stage 12:>  (0 + 0) / 59][Stage 14:>   (0 + 0) / 5]\n",
      "[Stage 11:=>(44 + 1) / 59][Stage 12:>  (0 + 0) / 59][Stage 14:>   (0 + 0) / 5]\n",
      "[Stage 11:=>(45 + 1) / 59][Stage 12:>  (0 + 0) / 59][Stage 14:>   (0 + 0) / 5]\n",
      "[Stage 11:=>(46 + 1) / 59][Stage 12:>  (0 + 0) / 59][Stage 14:>   (0 + 0) / 5]\n",
      "[Stage 11:=>(47 + 1) / 59][Stage 12:>  (0 + 0) / 59][Stage 14:>   (0 + 0) / 5]\n",
      "[Stage 11:=>(48 + 1) / 59][Stage 12:>  (0 + 0) / 59][Stage 14:>   (0 + 0) / 5]\n",
      "[Stage 11:=>(49 + 1) / 59][Stage 12:>  (0 + 0) / 59][Stage 14:>   (0 + 0) / 5]\n",
      "[Stage 11:=>(50 + 1) / 59][Stage 12:>  (0 + 0) / 59][Stage 14:>   (0 + 0) / 5]\n",
      "[Stage 11:=>(51 + 1) / 59][Stage 12:>  (0 + 0) / 59][Stage 14:>   (0 + 0) / 5]\n",
      "[Stage 11:=>(52 + 1) / 59][Stage 12:>  (0 + 0) / 59][Stage 14:>   (0 + 0) / 5]\n",
      "[Stage 11:=>(53 + 1) / 59][Stage 12:>  (0 + 0) / 59][Stage 14:>   (0 + 0) / 5]\n",
      "[Stage 11:=>(54 + 1) / 59][Stage 12:>  (0 + 0) / 59][Stage 14:>   (0 + 0) / 5]\n",
      "[Stage 11:=>(55 + 1) / 59][Stage 12:>  (0 + 0) / 59][Stage 14:>   (0 + 0) / 5]\n"
     ]
    },
    {
     "name": "stdout",
     "output_type": "stream",
     "text": [
      "[Stage 11:=>(56 + 1) / 59][Stage 12:>  (0 + 0) / 59][Stage 14:>   (0 + 0) / 5]\n",
      "[Stage 11:=>(57 + 1) / 59][Stage 12:>  (0 + 0) / 59][Stage 14:>   (0 + 0) / 5]\n",
      "[Stage 11:=>(58 + 1) / 59][Stage 12:>  (0 + 0) / 59][Stage 14:>   (0 + 0) / 5]\n",
      "[Stage 12:>                (0 + 1) / 59][Stage 14:>                 (0 + 0) / 5]\n",
      "[Stage 12:>                (1 + 1) / 59][Stage 14:>                 (0 + 0) / 5]\n",
      "[Stage 12:>                (2 + 1) / 59][Stage 14:>                 (0 + 0) / 5]\n",
      "[Stage 12:>                (3 + 1) / 59][Stage 14:>                 (0 + 0) / 5]\n",
      "[Stage 12:=>               (4 + 1) / 59][Stage 14:>                 (0 + 0) / 5]\n",
      "[Stage 12:=>               (5 + 1) / 59][Stage 14:>                 (0 + 0) / 5]\n",
      "[Stage 12:=>               (6 + 1) / 59][Stage 14:>                 (0 + 0) / 5]\n",
      "[Stage 12:==>              (7 + 1) / 59][Stage 14:>                 (0 + 0) / 5]\n",
      "[Stage 12:==>              (8 + 1) / 59][Stage 14:>                 (0 + 0) / 5]\n",
      "[Stage 12:==>              (9 + 1) / 59][Stage 14:>                 (0 + 0) / 5]\n",
      "[Stage 12:==>             (10 + 1) / 59][Stage 14:>                 (0 + 0) / 5]\n",
      "[Stage 12:==>             (11 + 1) / 59][Stage 14:>                 (0 + 0) / 5]\n",
      "[Stage 12:===>            (12 + 1) / 59][Stage 14:>                 (0 + 0) / 5]\n",
      "[Stage 12:===>            (13 + 1) / 59][Stage 14:>                 (0 + 0) / 5]\n",
      "[Stage 12:===>            (14 + 1) / 59][Stage 14:>                 (0 + 0) / 5]\n",
      "[Stage 12:====>           (15 + 1) / 59][Stage 14:>                 (0 + 0) / 5]\n",
      "[Stage 12:====>           (16 + 1) / 59][Stage 14:>                 (0 + 0) / 5]\n",
      "[Stage 12:====>           (17 + 1) / 59][Stage 14:>                 (0 + 0) / 5]\n",
      "[Stage 12:====>           (18 + 1) / 59][Stage 14:>                 (0 + 0) / 5]\n",
      "[Stage 12:=====>          (19 + 1) / 59][Stage 14:>                 (0 + 0) / 5]\n",
      "[Stage 12:=====>          (20 + 1) / 59][Stage 14:>                 (0 + 0) / 5]\n",
      "[Stage 12:=====>          (21 + 1) / 59][Stage 14:>                 (0 + 0) / 5]\n",
      "[Stage 12:=====>          (22 + 1) / 59][Stage 14:>                 (0 + 0) / 5]\n",
      "[Stage 12:======>         (23 + 1) / 59][Stage 14:>                 (0 + 0) / 5]\n",
      "[Stage 12:======>         (24 + 1) / 59][Stage 14:>                 (0 + 0) / 5]\n",
      "[Stage 12:======>         (25 + 1) / 59][Stage 14:>                 (0 + 0) / 5]\n",
      "[Stage 12:=======>        (26 + 1) / 59][Stage 14:>                 (0 + 0) / 5]\n",
      "[Stage 12:=======>        (27 + 1) / 59][Stage 14:>                 (0 + 0) / 5]\n",
      "[Stage 12:=======>        (28 + 1) / 59][Stage 14:>                 (0 + 0) / 5]\n",
      "[Stage 12:=======>        (29 + 1) / 59][Stage 14:>                 (0 + 0) / 5]\n",
      "[Stage 12:========>       (30 + 1) / 59][Stage 14:>                 (0 + 0) / 5]\n",
      "[Stage 12:========>       (31 + 1) / 59][Stage 14:>                 (0 + 0) / 5]\n",
      "[Stage 12:========>       (32 + 1) / 59][Stage 14:>                 (0 + 0) / 5]\n",
      "[Stage 12:========>       (33 + 1) / 59][Stage 14:>                 (0 + 0) / 5]\n",
      "[Stage 12:=========>      (34 + 1) / 59][Stage 14:>                 (0 + 0) / 5]\n",
      "[Stage 12:=========>      (35 + 1) / 59][Stage 14:>                 (0 + 0) / 5]\n",
      "[Stage 12:=========>      (36 + 1) / 59][Stage 14:>                 (0 + 0) / 5]\n",
      "[Stage 12:==========>     (37 + 1) / 59][Stage 14:>                 (0 + 0) / 5]\n",
      "[Stage 12:==========>     (38 + 1) / 59][Stage 14:>                 (0 + 0) / 5]\n",
      "[Stage 12:==========>     (39 + 1) / 59][Stage 14:>                 (0 + 0) / 5]\n",
      "[Stage 12:==========>     (40 + 1) / 59][Stage 14:>                 (0 + 0) / 5]\n",
      "[Stage 12:===========>    (41 + 1) / 59][Stage 14:>                 (0 + 0) / 5]\n",
      "[Stage 12:===========>    (42 + 1) / 59][Stage 14:>                 (0 + 0) / 5]\n",
      "[Stage 12:===========>    (43 + 1) / 59][Stage 14:>                 (0 + 0) / 5]\n",
      "[Stage 12:===========>    (44 + 1) / 59][Stage 14:>                 (0 + 0) / 5]\n",
      "[Stage 12:============>   (45 + 1) / 59][Stage 14:>                 (0 + 0) / 5]\n",
      "[Stage 12:============>   (46 + 1) / 59][Stage 14:>                 (0 + 0) / 5]\n",
      "[Stage 12:============>   (47 + 1) / 59][Stage 14:>                 (0 + 0) / 5]\n",
      "[Stage 12:=============>  (48 + 1) / 59][Stage 14:>                 (0 + 0) / 5]\n",
      "[Stage 12:=============>  (49 + 1) / 59][Stage 14:>                 (0 + 0) / 5]\n",
      "[Stage 12:=============>  (50 + 1) / 59][Stage 14:>                 (0 + 0) / 5]\n",
      "[Stage 12:=============>  (51 + 1) / 59][Stage 14:>                 (0 + 0) / 5]\n",
      "[Stage 12:==============> (52 + 1) / 59][Stage 14:>                 (0 + 0) / 5]\n",
      "[Stage 12:==============> (53 + 1) / 59][Stage 14:>                 (0 + 0) / 5]\n",
      "[Stage 12:==============> (54 + 1) / 59][Stage 14:>                 (0 + 0) / 5]\n",
      "[Stage 12:==============> (55 + 1) / 59][Stage 14:>                 (0 + 0) / 5]\n",
      "[Stage 12:===============>(56 + 1) / 59][Stage 14:>                 (0 + 0) / 5]\n",
      "[Stage 12:===============>(57 + 1) / 59][Stage 14:>                 (0 + 0) / 5]\n",
      "[Stage 12:===============>(58 + 1) / 59][Stage 14:>                 (0 + 0) / 5]\n",
      "[Stage 14:>                                                         (0 + 1) / 5]\n",
      "[Stage 13:>               (0 + 0) / 100][Stage 14:>                 (0 + 1) / 5]\n",
      "[Stage 13:>               (0 + 1) / 100][Stage 14:===>              (1 + 0) / 5]\n",
      "[Stage 13:>               (0 + 1) / 100][Stage 14:===>              (1 + 0) / 5]\n",
      "[Stage 13:>               (1 + 1) / 100][Stage 14:===>              (1 + 0) / 5]\n",
      "[Stage 13:>               (1 + 1) / 100][Stage 14:===>              (1 + 0) / 5]\n",
      "[Stage 13:>               (2 + 1) / 100][Stage 14:===>              (1 + 0) / 5]\n",
      "[Stage 13:>               (2 + 1) / 100][Stage 14:===>              (1 + 0) / 5]\n",
      "[Stage 13:>               (3 + 1) / 100][Stage 14:===>              (1 + 0) / 5]\n",
      "[Stage 13:>               (3 + 1) / 100][Stage 14:===>              (1 + 0) / 5]\n",
      "[Stage 13:>               (4 + 1) / 100][Stage 14:===>              (1 + 0) / 5]\n",
      "[Stage 13:>               (4 + 1) / 100][Stage 14:===>              (1 + 0) / 5]\n",
      "[Stage 13:>               (5 + 1) / 100][Stage 14:===>              (1 + 0) / 5]\n",
      "[Stage 13:>               (5 + 1) / 100][Stage 14:===>              (1 + 0) / 5]\n",
      "[Stage 13:>               (6 + 1) / 100][Stage 14:===>              (1 + 0) / 5]\n",
      "[Stage 13:>               (6 + 1) / 100][Stage 14:===>              (1 + 0) / 5]\n",
      "[Stage 13:=>              (7 + 1) / 100][Stage 14:===>              (1 + 0) / 5]\n",
      "[Stage 13:=>              (7 + 1) / 100][Stage 14:===>              (1 + 0) / 5]\n",
      "[Stage 13:=>              (8 + 1) / 100][Stage 14:===>              (1 + 0) / 5]\n",
      "[Stage 13:=>              (8 + 1) / 100][Stage 14:===>              (1 + 0) / 5]\n",
      "[Stage 13:=>              (9 + 1) / 100][Stage 14:===>              (1 + 0) / 5]\n",
      "[Stage 13:=>              (9 + 1) / 100][Stage 14:===>              (1 + 0) / 5]\n",
      "[Stage 13:=>             (10 + 1) / 100][Stage 14:===>              (1 + 0) / 5]\n",
      "[Stage 13:=>             (10 + 1) / 100][Stage 14:===>              (1 + 0) / 5]\n",
      "[Stage 13:=>             (11 + 1) / 100][Stage 14:===>              (1 + 0) / 5]\n",
      "[Stage 13:=>             (11 + 1) / 100][Stage 14:===>              (1 + 0) / 5]\n",
      "[Stage 13:=>             (12 + 1) / 100][Stage 14:===>              (1 + 0) / 5]\n",
      "[Stage 13:=>             (12 + 1) / 100][Stage 14:===>              (1 + 0) / 5]\n",
      "[Stage 13:=>             (13 + 1) / 100][Stage 14:===>              (1 + 0) / 5]\n",
      "[Stage 13:=>             (13 + 1) / 100][Stage 14:===>              (1 + 0) / 5]\n",
      "[Stage 13:==>            (14 + 1) / 100][Stage 14:===>              (1 + 0) / 5]\n",
      "[Stage 13:==>            (14 + 1) / 100][Stage 14:===>              (1 + 0) / 5]\n",
      "[Stage 13:==>            (15 + 1) / 100][Stage 14:===>              (1 + 0) / 5]\n",
      "[Stage 13:==>            (15 + 1) / 100][Stage 14:===>              (1 + 0) / 5]\n",
      "[Stage 13:==>            (16 + 1) / 100][Stage 14:===>              (1 + 0) / 5]\n",
      "[Stage 13:==>            (16 + 1) / 100][Stage 14:===>              (1 + 0) / 5]\n",
      "[Stage 13:==>            (17 + 1) / 100][Stage 14:===>              (1 + 0) / 5]\n",
      "[Stage 13:==>            (17 + 1) / 100][Stage 14:===>              (1 + 0) / 5]\n",
      "[Stage 13:==>            (18 + 1) / 100][Stage 14:===>              (1 + 0) / 5]\n",
      "[Stage 13:==>            (18 + 1) / 100][Stage 14:===>              (1 + 0) / 5]\n"
     ]
    },
    {
     "name": "stdout",
     "output_type": "stream",
     "text": [
      "[Stage 13:==>            (19 + 1) / 100][Stage 14:===>              (1 + 0) / 5]\n",
      "[Stage 13:==>            (19 + 1) / 100][Stage 14:===>              (1 + 0) / 5]\n",
      "[Stage 13:===>           (20 + 1) / 100][Stage 14:===>              (1 + 0) / 5]\n",
      "[Stage 13:===>           (20 + 1) / 100][Stage 14:===>              (1 + 0) / 5]\n",
      "[Stage 13:===>           (21 + 1) / 100][Stage 14:===>              (1 + 0) / 5]\n",
      "[Stage 13:===>           (21 + 1) / 100][Stage 14:===>              (1 + 0) / 5]\n",
      "[Stage 13:===>           (22 + 1) / 100][Stage 14:===>              (1 + 0) / 5]\n",
      "[Stage 13:===>           (22 + 1) / 100][Stage 14:===>              (1 + 0) / 5]\n",
      "[Stage 13:===>           (23 + 1) / 100][Stage 14:===>              (1 + 0) / 5]\n",
      "[Stage 13:===>           (23 + 1) / 100][Stage 14:===>              (1 + 0) / 5]\n",
      "[Stage 13:===>           (24 + 1) / 100][Stage 14:===>              (1 + 0) / 5]\n",
      "[Stage 13:===>           (24 + 1) / 100][Stage 14:===>              (1 + 0) / 5]\n",
      "[Stage 13:===>           (25 + 1) / 100][Stage 14:===>              (1 + 0) / 5]\n",
      "[Stage 13:===>           (25 + 1) / 100][Stage 14:===>              (1 + 0) / 5]\n",
      "[Stage 13:===>           (26 + 1) / 100][Stage 14:===>              (1 + 0) / 5]\n",
      "[Stage 13:===>           (26 + 1) / 100][Stage 14:===>              (1 + 0) / 5]\n",
      "[Stage 13:====>          (27 + 1) / 100][Stage 14:===>              (1 + 0) / 5]\n",
      "[Stage 13:====>          (27 + 1) / 100][Stage 14:===>              (1 + 0) / 5]\n",
      "[Stage 13:====>          (28 + 1) / 100][Stage 14:===>              (1 + 0) / 5]\n",
      "[Stage 13:====>          (28 + 1) / 100][Stage 14:===>              (1 + 0) / 5]\n",
      "[Stage 13:====>          (29 + 1) / 100][Stage 14:===>              (1 + 0) / 5]\n",
      "[Stage 13:====>          (29 + 1) / 100][Stage 14:===>              (1 + 0) / 5]\n",
      "[Stage 13:====>          (30 + 1) / 100][Stage 14:===>              (1 + 0) / 5]\n",
      "[Stage 13:====>          (30 + 1) / 100][Stage 14:===>              (1 + 0) / 5]\n",
      "[Stage 13:====>          (31 + 1) / 100][Stage 14:===>              (1 + 0) / 5]\n",
      "[Stage 13:====>          (31 + 1) / 100][Stage 14:===>              (1 + 0) / 5]\n",
      "[Stage 13:====>          (32 + 1) / 100][Stage 14:===>              (1 + 0) / 5]\n",
      "[Stage 13:====>          (32 + 1) / 100][Stage 14:===>              (1 + 0) / 5]\n",
      "[Stage 13:====>          (33 + 1) / 100][Stage 14:===>              (1 + 0) / 5]\n",
      "[Stage 13:====>          (33 + 1) / 100][Stage 14:===>              (1 + 0) / 5]\n",
      "[Stage 13:=====>         (34 + 1) / 100][Stage 14:===>              (1 + 0) / 5]\n",
      "[Stage 13:=====>         (34 + 1) / 100][Stage 14:===>              (1 + 0) / 5]\n",
      "[Stage 13:=====>         (35 + 1) / 100][Stage 14:===>              (1 + 0) / 5]\n",
      "[Stage 13:=====>         (35 + 1) / 100][Stage 14:===>              (1 + 0) / 5]\n",
      "[Stage 13:=====>         (36 + 1) / 100][Stage 14:===>              (1 + 0) / 5]\n",
      "[Stage 13:=====>         (36 + 1) / 100][Stage 14:===>              (1 + 0) / 5]\n",
      "[Stage 13:=====>         (37 + 1) / 100][Stage 14:===>              (1 + 0) / 5]\n",
      "[Stage 13:=====>         (37 + 1) / 100][Stage 14:===>              (1 + 0) / 5]\n",
      "[Stage 13:=====>         (38 + 1) / 100][Stage 14:===>              (1 + 0) / 5]\n",
      "[Stage 13:=====>         (38 + 1) / 100][Stage 14:===>              (1 + 0) / 5]\n",
      "[Stage 13:=====>         (39 + 1) / 100][Stage 14:===>              (1 + 0) / 5]\n",
      "[Stage 13:=====>         (39 + 1) / 100][Stage 14:===>              (1 + 0) / 5]\n",
      "[Stage 13:======>        (40 + 1) / 100][Stage 14:===>              (1 + 0) / 5]\n",
      "[Stage 13:======>        (40 + 1) / 100][Stage 14:===>              (1 + 0) / 5]\n",
      "[Stage 13:======>        (41 + 1) / 100][Stage 14:===>              (1 + 0) / 5]\n",
      "[Stage 13:======>        (41 + 1) / 100][Stage 14:===>              (1 + 0) / 5]\n",
      "[Stage 13:======>        (42 + 1) / 100][Stage 14:===>              (1 + 0) / 5]\n",
      "[Stage 13:======>        (42 + 1) / 100][Stage 14:===>              (1 + 0) / 5]\n",
      "[Stage 13:======>        (43 + 1) / 100][Stage 14:===>              (1 + 0) / 5]\n",
      "[Stage 13:======>        (43 + 1) / 100][Stage 14:===>              (1 + 0) / 5]\n",
      "[Stage 13:======>        (44 + 1) / 100][Stage 14:===>              (1 + 0) / 5]\n",
      "[Stage 13:======>        (44 + 1) / 100][Stage 14:===>              (1 + 0) / 5]\n",
      "[Stage 13:======>        (45 + 1) / 100][Stage 14:===>              (1 + 0) / 5]\n",
      "[Stage 13:======>        (45 + 1) / 100][Stage 14:===>              (1 + 0) / 5]\n",
      "[Stage 13:======>        (46 + 1) / 100][Stage 14:===>              (1 + 0) / 5]\n",
      "[Stage 13:======>        (46 + 1) / 100][Stage 14:===>              (1 + 0) / 5]\n",
      "[Stage 13:=======>       (47 + 1) / 100][Stage 14:===>              (1 + 0) / 5]\n",
      "[Stage 13:=======>       (47 + 1) / 100][Stage 14:===>              (1 + 0) / 5]\n",
      "[Stage 13:=======>       (48 + 1) / 100][Stage 14:===>              (1 + 0) / 5]\n",
      "[Stage 13:=======>       (48 + 1) / 100][Stage 14:===>              (1 + 0) / 5]\n",
      "[Stage 13:=======>       (49 + 1) / 100][Stage 14:===>              (1 + 0) / 5]\n",
      "[Stage 13:=======>       (49 + 1) / 100][Stage 14:===>              (1 + 0) / 5]\n",
      "[Stage 13:=======>       (50 + 1) / 100][Stage 14:===>              (1 + 0) / 5]\n",
      "[Stage 13:=======>       (50 + 1) / 100][Stage 14:===>              (1 + 0) / 5]\n",
      "[Stage 13:=======>       (51 + 1) / 100][Stage 14:===>              (1 + 0) / 5]\n",
      "[Stage 13:=======>       (51 + 1) / 100][Stage 14:===>              (1 + 0) / 5]\n",
      "[Stage 13:=======>       (52 + 1) / 100][Stage 14:===>              (1 + 0) / 5]\n",
      "[Stage 13:=======>       (52 + 1) / 100][Stage 14:===>              (1 + 0) / 5]\n",
      "[Stage 13:=======>       (53 + 1) / 100][Stage 14:===>              (1 + 0) / 5]\n",
      "[Stage 13:=======>       (53 + 1) / 100][Stage 14:===>              (1 + 0) / 5]\n",
      "[Stage 13:========>      (54 + 1) / 100][Stage 14:===>              (1 + 0) / 5]\n",
      "[Stage 13:========>      (54 + 1) / 100][Stage 14:===>              (1 + 0) / 5]\n",
      "[Stage 13:========>      (55 + 1) / 100][Stage 14:===>              (1 + 0) / 5]\n",
      "[Stage 13:========>      (55 + 1) / 100][Stage 14:===>              (1 + 0) / 5]\n",
      "[Stage 13:========>      (56 + 1) / 100][Stage 14:===>              (1 + 0) / 5]\n",
      "[Stage 13:========>      (56 + 1) / 100][Stage 14:===>              (1 + 0) / 5]\n",
      "[Stage 13:========>      (57 + 1) / 100][Stage 14:===>              (1 + 0) / 5]\n",
      "[Stage 13:========>      (57 + 1) / 100][Stage 14:===>              (1 + 0) / 5]\n",
      "[Stage 13:========>      (58 + 1) / 100][Stage 14:===>              (1 + 0) / 5]\n",
      "[Stage 13:========>      (58 + 1) / 100][Stage 14:===>              (1 + 0) / 5]\n",
      "[Stage 13:========>      (59 + 1) / 100][Stage 14:===>              (1 + 0) / 5]\n",
      "[Stage 13:========>      (59 + 1) / 100][Stage 14:===>              (1 + 0) / 5]\n",
      "[Stage 13:=========>     (60 + 1) / 100][Stage 14:===>              (1 + 0) / 5]\n",
      "[Stage 13:=========>     (60 + 1) / 100][Stage 14:===>              (1 + 0) / 5]\n",
      "[Stage 13:=========>     (61 + 1) / 100][Stage 14:===>              (1 + 0) / 5]\n",
      "[Stage 13:=========>     (61 + 1) / 100][Stage 14:===>              (1 + 0) / 5]\n",
      "[Stage 13:=========>     (62 + 1) / 100][Stage 14:===>              (1 + 0) / 5]\n",
      "[Stage 13:=========>     (62 + 1) / 100][Stage 14:===>              (1 + 0) / 5]\n",
      "[Stage 13:=========>     (63 + 1) / 100][Stage 14:===>              (1 + 0) / 5]\n",
      "[Stage 13:=========>     (63 + 1) / 100][Stage 14:===>              (1 + 0) / 5]\n",
      "[Stage 13:=========>     (64 + 1) / 100][Stage 14:===>              (1 + 0) / 5]\n",
      "[Stage 13:=========>     (64 + 1) / 100][Stage 14:===>              (1 + 0) / 5]\n",
      "[Stage 13:=========>     (65 + 1) / 100][Stage 14:===>              (1 + 0) / 5]\n",
      "[Stage 13:=========>     (65 + 1) / 100][Stage 14:===>              (1 + 0) / 5]\n",
      "[Stage 13:=========>     (66 + 1) / 100][Stage 14:===>              (1 + 0) / 5]\n",
      "[Stage 13:=========>     (66 + 1) / 100][Stage 14:===>              (1 + 0) / 5]\n",
      "[Stage 13:==========>    (67 + 1) / 100][Stage 14:===>              (1 + 0) / 5]\n",
      "[Stage 13:==========>    (67 + 1) / 100][Stage 14:===>              (1 + 0) / 5]\n",
      "[Stage 13:==========>    (68 + 1) / 100][Stage 14:===>              (1 + 0) / 5]\n",
      "[Stage 13:==========>    (68 + 1) / 100][Stage 14:===>              (1 + 0) / 5]\n",
      "[Stage 13:==========>    (69 + 1) / 100][Stage 14:===>              (1 + 0) / 5]\n",
      "[Stage 13:==========>    (69 + 1) / 100][Stage 14:===>              (1 + 0) / 5]\n"
     ]
    },
    {
     "name": "stdout",
     "output_type": "stream",
     "text": [
      "[Stage 13:==========>    (70 + 1) / 100][Stage 14:===>              (1 + 0) / 5]\n",
      "[Stage 13:==========>    (70 + 1) / 100][Stage 14:===>              (1 + 0) / 5]\n",
      "[Stage 13:==========>    (71 + 1) / 100][Stage 14:===>              (1 + 0) / 5]\n",
      "[Stage 13:==========>    (71 + 1) / 100][Stage 14:===>              (1 + 0) / 5]\n",
      "[Stage 13:==========>    (72 + 1) / 100][Stage 14:===>              (1 + 0) / 5]\n",
      "[Stage 13:==========>    (72 + 1) / 100][Stage 14:===>              (1 + 0) / 5]\n",
      "[Stage 13:==========>    (73 + 1) / 100][Stage 14:===>              (1 + 0) / 5]\n",
      "[Stage 13:==========>    (73 + 1) / 100][Stage 14:===>              (1 + 0) / 5]\n",
      "[Stage 13:===========>   (74 + 1) / 100][Stage 14:===>              (1 + 0) / 5]\n",
      "[Stage 13:===========>   (74 + 1) / 100][Stage 14:===>              (1 + 0) / 5]\n",
      "[Stage 13:===========>   (75 + 1) / 100][Stage 14:===>              (1 + 0) / 5]\n",
      "[Stage 13:===========>   (75 + 1) / 100][Stage 14:===>              (1 + 0) / 5]\n",
      "[Stage 13:===========>   (76 + 1) / 100][Stage 14:===>              (1 + 0) / 5]\n",
      "[Stage 13:===========>   (76 + 1) / 100][Stage 14:===>              (1 + 0) / 5]\n",
      "[Stage 13:===========>   (77 + 1) / 100][Stage 14:===>              (1 + 0) / 5]\n",
      "[Stage 13:===========>   (77 + 1) / 100][Stage 14:===>              (1 + 0) / 5]\n",
      "[Stage 13:===========>   (78 + 1) / 100][Stage 14:===>              (1 + 0) / 5]\n",
      "[Stage 13:===========>   (78 + 1) / 100][Stage 14:===>              (1 + 0) / 5]\n",
      "[Stage 13:===========>   (79 + 1) / 100][Stage 14:===>              (1 + 0) / 5]\n",
      "[Stage 13:===========>   (79 + 1) / 100][Stage 14:===>              (1 + 0) / 5]\n",
      "[Stage 13:============>  (80 + 1) / 100][Stage 14:===>              (1 + 0) / 5]\n",
      "[Stage 13:============>  (80 + 1) / 100][Stage 14:===>              (1 + 0) / 5]\n",
      "[Stage 13:============>  (81 + 1) / 100][Stage 14:===>              (1 + 0) / 5]\n",
      "[Stage 13:============>  (81 + 1) / 100][Stage 14:===>              (1 + 0) / 5]\n",
      "[Stage 13:============>  (82 + 1) / 100][Stage 14:===>              (1 + 0) / 5]\n",
      "[Stage 13:============>  (82 + 1) / 100][Stage 14:===>              (1 + 0) / 5]\n",
      "[Stage 13:============>  (83 + 1) / 100][Stage 14:===>              (1 + 0) / 5]\n",
      "[Stage 13:============>  (83 + 1) / 100][Stage 14:===>              (1 + 0) / 5]\n",
      "[Stage 13:============>  (84 + 1) / 100][Stage 14:===>              (1 + 0) / 5]\n",
      "[Stage 13:============>  (84 + 1) / 100][Stage 14:===>              (1 + 0) / 5]\n",
      "[Stage 13:============>  (85 + 1) / 100][Stage 14:===>              (1 + 0) / 5]\n",
      "[Stage 13:============>  (85 + 1) / 100][Stage 14:===>              (1 + 0) / 5]\n",
      "[Stage 13:============>  (86 + 1) / 100][Stage 14:===>              (1 + 0) / 5]\n",
      "[Stage 13:============>  (86 + 1) / 100][Stage 14:===>              (1 + 0) / 5]\n",
      "[Stage 13:=============> (87 + 1) / 100][Stage 14:===>              (1 + 0) / 5]\n",
      "[Stage 13:=============> (87 + 1) / 100][Stage 14:===>              (1 + 0) / 5]\n",
      "[Stage 13:=============> (88 + 1) / 100][Stage 14:===>              (1 + 0) / 5]\n",
      "[Stage 13:=============> (88 + 1) / 100][Stage 14:===>              (1 + 0) / 5]\n",
      "[Stage 13:=============> (89 + 1) / 100][Stage 14:===>              (1 + 0) / 5]\n",
      "[Stage 13:=============> (89 + 1) / 100][Stage 14:===>              (1 + 0) / 5]\n",
      "[Stage 13:=============> (90 + 1) / 100][Stage 14:===>              (1 + 0) / 5]\n",
      "[Stage 13:=============> (90 + 1) / 100][Stage 14:===>              (1 + 0) / 5]\n",
      "[Stage 13:=============> (91 + 1) / 100][Stage 14:===>              (1 + 0) / 5]\n",
      "[Stage 13:=============> (91 + 1) / 100][Stage 14:===>              (1 + 0) / 5]\n",
      "[Stage 13:=============> (92 + 1) / 100][Stage 14:===>              (1 + 0) / 5]\n",
      "[Stage 13:=============> (92 + 1) / 100][Stage 14:===>              (1 + 0) / 5]\n",
      "[Stage 13:=============> (93 + 1) / 100][Stage 14:===>              (1 + 0) / 5]\n",
      "[Stage 13:=============> (93 + 1) / 100][Stage 14:===>              (1 + 0) / 5]\n",
      "[Stage 13:==============>(94 + 1) / 100][Stage 14:===>              (1 + 0) / 5]\n",
      "[Stage 13:==============>(94 + 1) / 100][Stage 14:===>              (1 + 0) / 5]\n",
      "[Stage 13:==============>(95 + 1) / 100][Stage 14:===>              (1 + 0) / 5]\n",
      "[Stage 13:==============>(95 + 1) / 100][Stage 14:===>              (1 + 0) / 5]\n",
      "[Stage 13:==============>(96 + 1) / 100][Stage 14:===>              (1 + 0) / 5]\n",
      "[Stage 13:==============>(96 + 1) / 100][Stage 14:===>              (1 + 0) / 5]\n",
      "[Stage 13:==============>(97 + 1) / 100][Stage 14:===>              (1 + 0) / 5]\n",
      "[Stage 13:==============>(97 + 1) / 100][Stage 14:===>              (1 + 0) / 5]\n",
      "[Stage 13:==============>(98 + 1) / 100][Stage 14:===>              (1 + 0) / 5]\n",
      "[Stage 13:==============>(98 + 1) / 100][Stage 14:===>              (1 + 0) / 5]\n",
      "[Stage 13:==============>(99 + 1) / 100][Stage 14:===>              (1 + 0) / 5]\n",
      "[Stage 13:==============>(99 + 1) / 100][Stage 14:===>              (1 + 0) / 5]\n",
      "[Stage 14:===========>                                              (1 + 1) / 5]\n",
      "[Stage 14:=======================>                                  (2 + 1) / 5]\n",
      "[Stage 14:==================================>                       (3 + 1) / 5]\n",
      "[Stage 14:==============================================>           (4 + 1) / 5]\n",
      "[Stage 15:===========>                                           (21 + 1) / 100]\n",
      "[Stage 15:============>                                          (22 + 1) / 100]\n",
      "[Stage 15:============>                                          (23 + 1) / 100]\n",
      "[Stage 15:=============>                                         (24 + 1) / 100]\n",
      "[Stage 15:=============>                                         (25 + 1) / 100]\n",
      "[Stage 15:==============>                                        (26 + 1) / 100]\n",
      "[Stage 15:==============>                                        (27 + 1) / 100]\n",
      "[Stage 15:=====================>                                 (39 + 1) / 100]\n",
      "[Stage 15:======================>                                (40 + 1) / 100]\n",
      "[Stage 15:======================>                                (41 + 1) / 100]\n",
      "[Stage 15:=======================>                               (42 + 1) / 100]\n",
      "[Stage 15:=======================>                               (43 + 1) / 100]\n",
      "[Stage 15:========================>                              (44 + 1) / 100]\n",
      "[Stage 15:========================>                              (45 + 1) / 100]\n",
      "[Stage 15:=========================>                             (46 + 1) / 100]\n",
      "[Stage 15:=========================>                             (47 + 1) / 100]\n",
      "[Stage 15:==========================>                            (48 + 1) / 100]\n",
      "[Stage 15:==========================>                            (49 + 1) / 100]\n",
      "[Stage 15:===========================>                           (50 + 1) / 100]\n",
      "[Stage 15:============================>                          (51 + 1) / 100]\n",
      "[Stage 15:============================>                          (52 + 1) / 100]\n",
      "[Stage 15:=============================>                         (53 + 1) / 100]\n",
      "[Stage 15:=============================>                         (54 + 1) / 100]\n",
      "[Stage 15:==============================>                        (55 + 1) / 100]\n",
      "[Stage 15:==============================>                        (56 + 1) / 100]\n",
      "[Stage 15:===============================>                       (57 + 1) / 100]\n",
      "[Stage 15:===============================>                       (58 + 1) / 100]\n",
      "[Stage 15:================================>                      (59 + 1) / 100]\n",
      "[Stage 15:=================================>                     (60 + 1) / 100]\n",
      "[Stage 15:=================================>                     (61 + 1) / 100]\n",
      "[Stage 15:==================================>                    (62 + 1) / 100]\n",
      "[Stage 15:==================================>                    (63 + 1) / 100]\n",
      "[Stage 15:===================================>                   (64 + 1) / 100]\n",
      "[Stage 15:===================================>                   (65 + 1) / 100]\n",
      "[Stage 15:====================================>                  (66 + 1) / 100]\n",
      "[Stage 15:====================================>                  (67 + 1) / 100]\n",
      "[Stage 15:=====================================>                 (68 + 1) / 100]\n",
      "[Stage 15:=====================================>                 (69 + 1) / 100]\n"
     ]
    },
    {
     "name": "stdout",
     "output_type": "stream",
     "text": [
      "[Stage 15:======================================>                (70 + 1) / 100]\n",
      "[Stage 15:=======================================>               (71 + 1) / 100]\n",
      "[Stage 15:=======================================>               (72 + 1) / 100]\n",
      "[Stage 15:========================================>              (73 + 1) / 100]\n",
      "[Stage 15:========================================>              (74 + 1) / 100]\n",
      "[Stage 15:=========================================>             (75 + 1) / 100]\n",
      "[Stage 15:=========================================>             (76 + 1) / 100]\n",
      "[Stage 15:==========================================>            (77 + 1) / 100]\n",
      "[Stage 15:==========================================>            (78 + 1) / 100]\n",
      "[Stage 15:===========================================>           (79 + 1) / 100]\n",
      "[Stage 15:============================================>          (80 + 1) / 100]\n",
      "[Stage 15:============================================>          (81 + 1) / 100]\n",
      "[Stage 15:=============================================>         (82 + 1) / 100]\n",
      "[Stage 15:=============================================>         (83 + 1) / 100]\n",
      "[Stage 15:==============================================>        (84 + 1) / 100]\n",
      "[Stage 15:==============================================>        (85 + 1) / 100]\n",
      "[Stage 15:===============================================>       (86 + 1) / 100]\n",
      "[Stage 15:===============================================>       (87 + 1) / 100]\n",
      "[Stage 15:================================================>      (88 + 1) / 100]\n",
      "[Stage 15:================================================>      (89 + 1) / 100]\n",
      "[Stage 15:=================================================>     (90 + 1) / 100]\n",
      "[Stage 15:==================================================>    (91 + 1) / 100]\n",
      "[Stage 15:==================================================>    (92 + 1) / 100]\n",
      "[Stage 15:===================================================>   (93 + 1) / 100]\n",
      "[Stage 15:===================================================>   (94 + 1) / 100]\n",
      "[Stage 15:====================================================>  (95 + 1) / 100]\n",
      "[Stage 15:====================================================>  (96 + 1) / 100]\n",
      "[Stage 15:=====================================================> (97 + 1) / 100]\n",
      "[Stage 15:=====================================================> (98 + 1) / 100]\n",
      "[Stage 15:======================================================>(99 + 1) / 100]\n",
      "SystemML Statistics:\n",
      "Total execution time:\t\t7763.130 sec.\n",
      "Number of executed Spark inst:\t8.\n",
      "\n",
      "                                                                                \n",
      "\n",
      "6.250664558915404e+16\n"
     ]
    }
   ],
   "source": [
    "prog = dml(script).output('res')\n",
    "res = ml.execute(prog).get('res')\n",
    "print(res)"
   ]
  },
  {
   "cell_type": "markdown",
   "metadata": {},
   "source": [
    "If everything runs fine you should get *6252492444241.075* as result (or something in that bullpark). Feel free to submit your DML script to the grader now!\n",
    "\n",
    "### Submission"
   ]
  },
  {
   "cell_type": "code",
   "execution_count": 15,
   "metadata": {
    "scrolled": true
   },
   "outputs": [
    {
     "name": "stdout",
     "output_type": "stream",
     "text": [
      "--2019-09-09 05:29:04--  https://raw.githubusercontent.com/romeokienzler/developerWorks/master/coursera/ai/rklib.py\n",
      "Resolving raw.githubusercontent.com (raw.githubusercontent.com)... 151.101.228.133\n",
      "Connecting to raw.githubusercontent.com (raw.githubusercontent.com)|151.101.228.133|:443... connected.\n",
      "HTTP request sent, awaiting response... 200 OK\n",
      "Length: 2289 (2.2K) [text/plain]\n",
      "Saving to: ‘rklib.py’\n",
      "\n",
      "100%[======================================>] 2,289       --.-K/s   in 0s      \n",
      "\n",
      "2019-09-09 05:29:05 (6.92 MB/s) - ‘rklib.py’ saved [2289/2289]\n",
      "\n"
     ]
    }
   ],
   "source": [
    "!rm -f rklib.py\n",
    "!wget https://raw.githubusercontent.com/romeokienzler/developerWorks/master/coursera/ai/rklib.py"
   ]
  },
  {
   "cell_type": "code",
   "execution_count": 16,
   "metadata": {},
   "outputs": [],
   "source": [
    "from rklib import submit\n",
    "key = \"esRk7vn-Eeej-BLTuYzd0g\"\n",
    "\n",
    "\n",
    "email = \"le.buihung@gmail.com\""
   ]
  },
  {
   "cell_type": "code",
   "execution_count": 17,
   "metadata": {},
   "outputs": [
    {
     "name": "stdout",
     "output_type": "stream",
     "text": [
      "Submission successful, please check on the coursera grader page for the status\n",
      "-------------------------\n",
      "{\"elements\":[{\"itemId\":\"P1p3F\",\"id\":\"tE4j0qhMEeecqgpT6QjMdA~P1p3F~vv3ncdLCEemEiwrYkPR2eg\",\"courseId\":\"tE4j0qhMEeecqgpT6QjMdA\"}],\"paging\":{},\"linked\":{}}\n",
      "-------------------------\n"
     ]
    }
   ],
   "source": [
    "part = \"fUxc8\"\n",
    "token = \"UNNHMCECjyPdvXKh\" #you can obtain it from the grader page on Coursera\n",
    "submit(email, token, key, part, [part], script)"
   ]
  },
  {
   "cell_type": "code",
   "execution_count": null,
   "metadata": {
    "collapsed": true
   },
   "outputs": [],
   "source": []
  }
 ],
 "metadata": {
  "kernelspec": {
   "display_name": "Python3.6",
   "language": "python",
   "name": "python3"
  },
  "language_info": {
   "codemirror_mode": {
    "name": "ipython",
    "version": 3
   },
   "file_extension": ".py",
   "mimetype": "text/x-python",
   "name": "python",
   "nbconvert_exporter": "python",
   "pygments_lexer": "ipython3",
   "version": "3.6.7"
  }
 },
 "nbformat": 4,
 "nbformat_minor": 1
}
